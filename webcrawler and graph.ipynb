{
  "nbformat": 4,
  "nbformat_minor": 0,
  "metadata": {
    "colab": {
      "name": "Copy of webcrawler.ipynb",
      "provenance": [],
      "collapsed_sections": [],
      "toc_visible": true,
      "include_colab_link": true
    },
    "kernelspec": {
      "name": "python3",
      "display_name": "Python 3"
    }
  },
  "cells": [
    {
      "cell_type": "markdown",
      "metadata": {
        "id": "view-in-github",
        "colab_type": "text"
      },
      "source": [
        "<a href=\"https://colab.research.google.com/github/evaaaaho1999/Applied-Multivariate-Analysis/blob/main/webcrawler%20and%20graph.ipynb\" target=\"_parent\"><img src=\"https://colab.research.google.com/assets/colab-badge.svg\" alt=\"Open In Colab\"/></a>"
      ]
    },
    {
      "cell_type": "markdown",
      "metadata": {
        "id": "n-KH8hUNxJ1I"
      },
      "source": [
        "# News webcrawler "
      ]
    },
    {
      "cell_type": "code",
      "metadata": {
        "id": "kYT_pjpZvygQ"
      },
      "source": [
        "# import datetime\n",
        "# import time\n",
        "# today = int(str(datetime.date.today()).split(\"-\")[2])"
      ],
      "execution_count": null,
      "outputs": []
    },
    {
      "cell_type": "code",
      "metadata": {
        "id": "RgWVe7b3ktTj",
        "colab": {
          "base_uri": "https://localhost:8080/",
          "height": 1000
        },
        "outputId": "1e21fe39-c3de-4df0-f2e0-d08820f61186"
      },
      "source": [
        "import bs4\n",
        "from bs4 import BeautifulSoup as soup\n",
        "from urllib.request import urlopen\n",
        "\n",
        "news_url=\"https://news.google.com/rss/topics/CAAqJggKIiBDQkFTRWdvSUwyMHZNRGx6TVdZU0FtVnVHZ0pWVXlnQVAB?hl=en-US\"\n",
        "Client=urlopen(news_url)\n",
        "xml_page=Client.read()\n",
        "Client.close()\n",
        "\n",
        "soup_page=soup(xml_page,\"xml\")\n",
        "news_list=soup_page.findAll(\"item\")\n",
        "# Print news title, url and publish date\n",
        "news_title=[]\n",
        "website=[]\n",
        "today_news=[]\n",
        "i=0\n",
        "for news in news_list:\n",
        "  news_title.append(news.title.text)\n",
        "  website.append(news.link.text)\n",
        "  print(i)\n",
        "  print(news.title.text)\n",
        "  print(news.link.text)\n",
        "  print(news.pubDate.text)\n",
        "  # if int(str(news.pubDate.text).split(\" \")[1])==today:\n",
        "  #   today_news.append(news.title.text)\n",
        "  print(\"-\"*60)\n",
        "  i+=1\n",
        "# print(len(news_list))\n",
        "# print(news_title)\n",
        "# print(today_news)\n",
        "# print(len(today_news))"
      ],
      "execution_count": null,
      "outputs": [
        {
          "output_type": "stream",
          "text": [
            "0\n",
            "Ben McAdams ‘outraged’ over refusal to disclose PPP loan information - Deseret News\n",
            "https://news.google.com/__i/rss/rd/articles/CBMihAFodHRwczovL3d3dy5kZXNlcmV0LmNvbS91dGFoLzIwMjAvNi8xMi8yMTI4OTc4Ny9tY2FkYW1zLW91dHJhZ2VkLXRyZWFzdXJ5LWRlcGFydG1lbnQtcGF5Y2hlY2stcHJvdGVjdGlvbi1sb2FuLXN0ZXZlLW1udWNoaW4tY292aWQtMTnSAZEBaHR0cHM6Ly93d3cuZGVzZXJldC5jb20vcGxhdGZvcm0vYW1wL3V0YWgvMjAyMC82LzEyLzIxMjg5Nzg3L21jYWRhbXMtb3V0cmFnZWQtdHJlYXN1cnktZGVwYXJ0bWVudC1wYXljaGVjay1wcm90ZWN0aW9uLWxvYW4tc3RldmUtbW51Y2hpbi1jb3ZpZC0xOQ?oc=5\n",
            "Sat, 13 Jun 2020 00:43:23 GMT\n",
            "------------------------------------------------------------\n",
            "1\n",
            "Hertz allowed to sell $1 bn in shares despite bankruptcy - Yahoo! Voices\n",
            "https://news.google.com/__i/rss/rd/articles/CBMiV2h0dHBzOi8vbmV3cy55YWhvby5jb20vaGVydHotYWxsb3dlZC1zZWxsLTEtYm4tc2hhcmVzLWRlc3BpdGUtYmFua3J1cHRjeS0wMTQyMTQ4MzMuaHRtbNIBX2h0dHBzOi8vbmV3cy55YWhvby5jb20vYW1waHRtbC9oZXJ0ei1hbGxvd2VkLXNlbGwtMS1ibi1zaGFyZXMtZGVzcGl0ZS1iYW5rcnVwdGN5LTAxNDIxNDgzMy5odG1s?oc=5\n",
            "Sat, 13 Jun 2020 01:46:50 GMT\n",
            "------------------------------------------------------------\n",
            "2\n",
            "Amazon's Reportedly Fielding Probes From California, Washington State Over Trade Practices - Gizmodo\n",
            "https://news.google.com/__i/rss/rd/articles/CBMiVWh0dHBzOi8vZ2l6bW9kby5jb20vYW1hem9ucy1yZXBvcnRlZGx5LWZpZWxkaW5nLXByb2Jlcy1mcm9tLWNhbGlmb3JuaWEtd2FzLTE4NDQwMjA2OTHSAVlodHRwczovL2dpem1vZG8uY29tL2FtYXpvbnMtcmVwb3J0ZWRseS1maWVsZGluZy1wcm9iZXMtZnJvbS1jYWxpZm9ybmlhLXdhcy0xODQ0MDIwNjkxL2FtcA?oc=5\n",
            "Sat, 13 Jun 2020 02:03:24 GMT\n",
            "------------------------------------------------------------\n",
            "3\n",
            "Apple renames Buchanan Street store as Glasgow calls for racial justice - 9to5Mac\n",
            "https://news.google.com/__i/rss/rd/articles/CBMiS2h0dHBzOi8vOXRvNW1hYy5jb20vMjAyMC8wNi8xMi9hcHBsZS1zdG9yZS1idWNoYW5hbi1zdHJlZXQtZ2xhc2dvdy1yZW5hbWVkL9IBT2h0dHBzOi8vOXRvNW1hYy5jb20vMjAyMC8wNi8xMi9hcHBsZS1zdG9yZS1idWNoYW5hbi1zdHJlZXQtZ2xhc2dvdy1yZW5hbWVkL2FtcC8?oc=5\n",
            "Fri, 12 Jun 2020 21:50:53 GMT\n",
            "------------------------------------------------------------\n",
            "4\n",
            "AmEx Wins Clearing License for China’s $27 Trillion Market - Bloomberg\n",
            "https://news.google.com/__i/rss/rd/articles/CBMicWh0dHBzOi8vd3d3LmJsb29tYmVyZy5jb20vbmV3cy9hcnRpY2xlcy8yMDIwLTA2LTEzL2FtZXgtd2lucy1jYXJkLWNsZWFyaW5nLWxpY2Vuc2UtZm9yLWNoaW5hLXMtMjctdHJpbGxpb24tbWFya2V00gF1aHR0cHM6Ly93d3cuYmxvb21iZXJnLmNvbS9hbXAvbmV3cy9hcnRpY2xlcy8yMDIwLTA2LTEzL2FtZXgtd2lucy1jYXJkLWNsZWFyaW5nLWxpY2Vuc2UtZm9yLWNoaW5hLXMtMjctdHJpbGxpb24tbWFya2V0?oc=5\n",
            "Sat, 13 Jun 2020 11:15:25 GMT\n",
            "------------------------------------------------------------\n",
            "5\n",
            "$3,000 Invested In These 3 Top Stocks Could Make You Rich - Motley Fool\n",
            "https://news.google.com/__i/rss/rd/articles/CBMiYWh0dHBzOi8vd3d3LmZvb2wuY29tL2ludmVzdGluZy8yMDIwLzA2LzEzLzMwMDAtaW52ZXN0ZWQtaW4tdGhlc2UtMy10b3Atc3RvY2tzLWNvdWxkLW1ha2UteW91LmFzcHjSAWVodHRwczovL3d3dy5mb29sLmNvbS9hbXAvaW52ZXN0aW5nLzIwMjAvMDYvMTMvMzAwMC1pbnZlc3RlZC1pbi10aGVzZS0zLXRvcC1zdG9ja3MtY291bGQtbWFrZS15b3UuYXNweA?oc=5\n",
            "Sat, 13 Jun 2020 10:04:00 GMT\n",
            "------------------------------------------------------------\n",
            "6\n",
            "Best Father's Day gifts in 2020: A budget, DIYers dream list of gadgets and gizmos for Dad - ZDNet\n",
            "https://news.google.com/__i/rss/rd/articles/CBMidmh0dHBzOi8vd3d3LnpkbmV0LmNvbS9hcnRpY2xlL2Jlc3QtZmF0aGVycy1kYXktZ2lmdHMtaW4tMjAyMC1hLWJ1ZGdldC1kaXllcnMtZHJlYW0tbGlzdC1vZi1nYWRnZXRzLWFuZC1naXptb3MtZm9yLWRhZC_SAYEBaHR0cHM6Ly93d3cuemRuZXQuY29tL2dvb2dsZS1hbXAvYXJ0aWNsZS9iZXN0LWZhdGhlcnMtZGF5LWdpZnRzLWluLTIwMjAtYS1idWRnZXQtZGl5ZXJzLWRyZWFtLWxpc3Qtb2YtZ2FkZ2V0cy1hbmQtZ2l6bW9zLWZvci1kYWQv?oc=5\n",
            "Fri, 12 Jun 2020 13:41:00 GMT\n",
            "------------------------------------------------------------\n",
            "7\n",
            "Dow Jones Rebound Fades After Biggest Loss In Stock Market Since Mid-March - Investor's Business Daily\n",
            "https://news.google.com/__i/rss/rd/articles/CBMiggFodHRwczovL3d3dy5pbnZlc3RvcnMuY29tL21hcmtldC10cmVuZC9zdG9jay1tYXJrZXQtdG9kYXkvZG93LWpvbmVzLXJlYm91bmQtZmFkZXMtYWZ0ZXItc3RvY2stbWFya2V0LWJpZ2dlc3QtbG9zcy1zaW5jZS1taWQtbWFyY2gv0gEA?oc=5\n",
            "Fri, 12 Jun 2020 18:17:34 GMT\n",
            "------------------------------------------------------------\n",
            "8\n",
            "Stimulus check: how the government creates stimulus payment - AS English\n",
            "https://news.google.com/__i/rss/rd/articles/CBMiQ2h0dHBzOi8vZW4uYXMuY29tL2VuLzIwMjAvMDYvMTIvb3RoZXJfc3BvcnRzLzE1OTE5OTcyMDhfOTc4MTA0Lmh0bWzSAUdodHRwczovL2VuLmFzLmNvbS9lbi8yMDIwLzA2LzEyL290aGVyX3Nwb3J0cy8xNTkxOTk3MjA4Xzk3ODEwNC5hbXAuaHRtbA?oc=5\n",
            "Fri, 12 Jun 2020 21:35:00 GMT\n",
            "------------------------------------------------------------\n",
            "9\n",
            "Next Week's Gameplan: Cramer's 'Mad Money' Recap (Friday 6/12/20) - TheStreet\n",
            "https://news.google.com/__i/rss/rd/articles/CBMiX2h0dHBzOi8vd3d3LnRoZXN0cmVldC5jb20vamltLWNyYW1lci9uZXh0LXdlZWtzLWdhbWVwbGFuLWNyYW1lcnMtbWFkLW1vbmV5LXJlY2FwLWZyaWRheS02LTEyLTIw0gFkaHR0cHM6Ly93d3cudGhlc3RyZWV0LmNvbS8uYW1wL2ppbS1jcmFtZXIvbmV4dC13ZWVrcy1nYW1lcGxhbi1jcmFtZXJzLW1hZC1tb25leS1yZWNhcC1mcmlkYXktNi0xMi0yMA?oc=5\n",
            "Fri, 12 Jun 2020 23:55:00 GMT\n",
            "------------------------------------------------------------\n",
            "10\n",
            "Coronavirus vaccine: Human trials advance, Army selects top drug candidate - NBC News\n",
            "https://news.google.com/__i/rss/rd/articles/CBMifGh0dHBzOi8vd3d3Lm5iY25ld3MuY29tL2hlYWx0aC9oZWFsdGgtbmV3cy9jb3JvbmF2aXJ1cy12YWNjaW5lLWh1bWFuLXRyaWFscy1hZHZhbmNlLWFybXktc2VsZWN0cy10b3AtZHJ1Zy1jYW5kaWRhdGUtbjEyMzAxODbSASxodHRwczovL3d3dy5uYmNuZXdzLmNvbS9uZXdzL2FtcC9uY25hMTIzMDE4Ng?oc=5\n",
            "Fri, 12 Jun 2020 18:32:54 GMT\n",
            "------------------------------------------------------------\n",
            "11\n",
            "The truth about the May jobs report - Axios\n",
            "https://news.google.com/__i/rss/rd/articles/CBMiWmh0dHBzOi8vd3d3LmF4aW9zLmNvbS9tYXktam9icy1yZXBvcnQtbG93ZXItZGF0YS0yMGY2Yzk0Zi01YzhiLTQ1MDctOTg5Ny1iZjc2MWM2YzU2ODAuaHRtbNIBAA?oc=5\n",
            "Fri, 12 Jun 2020 12:15:05 GMT\n",
            "------------------------------------------------------------\n",
            "12\n",
            "This week in Trumponomics: Stocks can’t handle the truth - Yahoo Finance\n",
            "https://news.google.com/__i/rss/rd/articles/CBMiZGh0dHBzOi8vZmluYW5jZS55YWhvby5jb20vbmV3cy90aGlzLXdlZWstaW4tdHJ1bXBvbm9taWNzLXN0b2Nrcy1jYW50LWhhbmRsZS10aGUtdHJ1dGgtMTgzMTA3Mjc3Lmh0bWzSAWxodHRwczovL2ZpbmFuY2UueWFob28uY29tL2FtcGh0bWwvbmV3cy90aGlzLXdlZWstaW4tdHJ1bXBvbm9taWNzLXN0b2Nrcy1jYW50LWhhbmRsZS10aGUtdHJ1dGgtMTgzMTA3Mjc3Lmh0bWw?oc=5\n",
            "Fri, 12 Jun 2020 18:31:00 GMT\n",
            "------------------------------------------------------------\n",
            "13\n",
            "Microsoft Follows Amazon, IBM To Ban Sale Of Facial Recognition Technology To US Police - Yahoo Finance\n",
            "https://news.google.com/__i/rss/rd/articles/CBMiTmh0dHBzOi8vZmluYW5jZS55YWhvby5jb20vbmV3cy9taWNyb3NvZnQtZm9sbG93cy1hbWF6b24taWJtLWJhbi0wNDI0NTUxOTguaHRtbNIBVmh0dHBzOi8vZmluYW5jZS55YWhvby5jb20vYW1waHRtbC9uZXdzL21pY3Jvc29mdC1mb2xsb3dzLWFtYXpvbi1pYm0tYmFuLTA0MjQ1NTE5OC5odG1s?oc=5\n",
            "Fri, 12 Jun 2020 07:31:53 GMT\n",
            "------------------------------------------------------------\n",
            "14\n",
            "San Francisco Restaurants Are Open for Outdoor Dining. Here’s What You Need to Know - Eater SF\n",
            "https://news.google.com/__i/rss/rd/articles/CBMiYWh0dHBzOi8vc2YuZWF0ZXIuY29tLzIwMjAvNi8xMi8yMTI4OTQwNi9zYW4tZnJhbmNpc2NvLW91dGRvb3ItZGluaW5nLXJlc3RhdXJhbnRzLXBhdGlvcy1zaWRld2Fsa3PSAW5odHRwczovL3NmLmVhdGVyLmNvbS9wbGF0Zm9ybS9hbXAvMjAyMC82LzEyLzIxMjg5NDA2L3Nhbi1mcmFuY2lzY28tb3V0ZG9vci1kaW5pbmctcmVzdGF1cmFudHMtcGF0aW9zLXNpZGV3YWxrcw?oc=5\n",
            "Fri, 12 Jun 2020 19:19:07 GMT\n",
            "------------------------------------------------------------\n",
            "15\n",
            "Trump Administration Refuses To Disclose Which Businesses Received $500 Billion In Government Bailout - HuffPost\n",
            "https://news.google.com/__i/rss/rd/articles/CBMiWmh0dHBzOi8vd3d3Lmh1ZmZwb3N0LmNvbS9lbnRyeS90cnVtcC1wcHAtbG9hbi1idXNpbmVzc2VzLXNlY3JldF9uXzVlZTI2NDA3YzViNmZkYmMwYThlNTlhY9IBP2h0dHBzOi8vbS5odWZmcG9zdC5jb20vdXMvZW50cnkvdXNfNWVlMjY0MDdjNWI2ZmRiYzBhOGU1OWFjL2FtcA?oc=5\n",
            "Thu, 11 Jun 2020 19:45:06 GMT\n",
            "------------------------------------------------------------\n",
            "16\n",
            "CrossFit Games Champion Katrin Davíðsdóttir on 2020 Competition: ‘I Am Out’ - Footwear News\n",
            "https://news.google.com/__i/rss/rd/articles/CBMieWh0dHBzOi8vZm9vdHdlYXJuZXdzLmNvbS8yMDIwL2J1c2luZXNzL2F0aGxldGljLW91dGRvb3Iva2F0cmluLWRhdmlkc2RvdHRpci0yMDIwLWNyb3NzZml0LWdhbWVzLWdyZWctZ2xhc3NtYW4tMTIwMzAwNTM5NS_SAX1odHRwczovL2Zvb3R3ZWFybmV3cy5jb20vMjAyMC9idXNpbmVzcy9hdGhsZXRpYy1vdXRkb29yL2thdHJpbi1kYXZpZHNkb3R0aXItMjAyMC1jcm9zc2ZpdC1nYW1lcy1ncmVnLWdsYXNzbWFuLTEyMDMwMDUzOTUvYW1wLw?oc=5\n",
            "Sat, 13 Jun 2020 00:08:55 GMT\n",
            "------------------------------------------------------------\n",
            "17\n",
            "Jerry Gulke: As Wheat Goes, Will So Go Corn? - Agweb Powered by Farm Journal\n",
            "https://news.google.com/__i/rss/rd/articles/CBMiRGh0dHBzOi8vd3d3LmFnd2ViLmNvbS9hcnRpY2xlL2plcnJ5LWd1bGtlLXdoZWF0LWdvZXMtd2lsbC1zby1nby1jb3Ju0gEA?oc=5\n",
            "Fri, 12 Jun 2020 19:46:00 GMT\n",
            "------------------------------------------------------------\n",
            "18\n",
            "DOJ and FTC joust for chance to review Facebook-Giphy deal - POLITICO\n",
            "https://news.google.com/__i/rss/rd/articles/CBMiamh0dHBzOi8vd3d3LnBvbGl0aWNvLmNvbS9uZXdzLzIwMjAvMDYvMTIvZG9qLWFuZC1mdGMtam91c3QtZm9yLWNoYW5jZS10by1yZXZpZXctZmFjZWJvb2stZ2lwaHktZGVhbC0zMTU5MDPSAW5odHRwczovL3d3dy5wb2xpdGljby5jb20vYW1wL25ld3MvMjAyMC8wNi8xMi9kb2otYW5kLWZ0Yy1qb3VzdC1mb3ItY2hhbmNlLXRvLXJldmlldy1mYWNlYm9vay1naXBoeS1kZWFsLTMxNTkwMw?oc=5\n",
            "Fri, 12 Jun 2020 21:34:02 GMT\n",
            "------------------------------------------------------------\n",
            "19\n",
            "Band-Aid announces inclusive new line of bandages to match a range of different skin tones - Daily Mail\n",
            "https://news.google.com/__i/rss/rd/articles/CBMihwFodHRwczovL3d3dy5kYWlseW1haWwuY28udWsvZmVtYWlsL2FydGljbGUtODQxNjI1Ny9CYW5kLUFpZC1hbm5vdW5jZXMtaW5jbHVzaXZlLW5ldy1saW5lLWJhbmRhZ2VzLW1hdGNoLXJhbmdlLWRpZmZlcmVudC1za2luLXRvbmVzLmh0bWzSAYsBaHR0cHM6Ly93d3cuZGFpbHltYWlsLmNvLnVrL2ZlbWFpbC9hcnRpY2xlLTg0MTYyNTcvYW1wL0JhbmQtQWlkLWFubm91bmNlcy1pbmNsdXNpdmUtbmV3LWxpbmUtYmFuZGFnZXMtbWF0Y2gtcmFuZ2UtZGlmZmVyZW50LXNraW4tdG9uZXMuaHRtbA?oc=5\n",
            "Sat, 13 Jun 2020 11:24:01 GMT\n",
            "------------------------------------------------------------\n",
            "20\n",
            "British Airways' treatment of staff 'a disgrace', say MPs - BBC News\n",
            "https://news.google.com/__i/rss/rd/articles/CBMiKmh0dHBzOi8vd3d3LmJiYy5jb20vbmV3cy9idXNpbmVzcy01MzAyNzc3NtIBLmh0dHBzOi8vd3d3LmJiYy5jb20vbmV3cy9hbXAvYnVzaW5lc3MtNTMwMjc3NzY?oc=5\n",
            "Fri, 12 Jun 2020 23:14:43 GMT\n",
            "------------------------------------------------------------\n",
            "21\n",
            "‘What a lost opportunity’: Uber’s abandonment of GrubHub deal is a ‘clear negative,’ analysts say - MarketWatch\n",
            "https://news.google.com/__i/rss/rd/articles/CBMib2h0dHBzOi8vd3d3Lm1hcmtldHdhdGNoLmNvbS9zdG9yeS91YmVycy1hYmFuZG9ubWVudC1vZi1ncnViaHViLWRlYWwtaXMtYS1jbGVhci1uZWdhdGl2ZS1hbmFseXN0cy1zYXktMjAyMC0wNi0xMdIBT2h0dHBzOi8vd3d3Lm1hcmtldHdhdGNoLmNvbS9hbXAvc3RvcnkvZ3VpZC9CQjMyN0M2RS1BQkY4LTExRUEtQTI5My1CNjE5MTI5NEEwOTc?oc=5\n",
            "Thu, 11 Jun 2020 18:15:49 GMT\n",
            "------------------------------------------------------------\n",
            "22\n",
            "Watch NY Gov. Andrew Cuomo’s coronavirus news conference (Friday, June 12, 2020) - syracuse.com\n",
            "https://news.google.com/__i/rss/rd/articles/CBMifGh0dHBzOi8vd3d3LnN5cmFjdXNlLmNvbS9jb3JvbmF2aXJ1cy8yMDIwLzA2L3dhdGNoLW55LWdvdi1hbmRyZXctY3VvbW9zLWNvcm9uYXZpcnVzLW5ld3MtY29uZmVyZW5jZS1mcmlkYXktanVuZS0xMi0yMDIwLmh0bWzSAYsBaHR0cHM6Ly93d3cuc3lyYWN1c2UuY29tL2Nvcm9uYXZpcnVzLzIwMjAvMDYvd2F0Y2gtbnktZ292LWFuZHJldy1jdW9tb3MtY29yb25hdmlydXMtbmV3cy1jb25mZXJlbmNlLWZyaWRheS1qdW5lLTEyLTIwMjAuaHRtbD9vdXRwdXRUeXBlPWFtcA?oc=5\n",
            "Fri, 12 Jun 2020 15:44:45 GMT\n",
            "------------------------------------------------------------\n",
            "23\n",
            "Paris Las Vegas reopens with a roster of restaurants and bars on June 18 - Eater Vegas\n",
            "https://news.google.com/__i/rss/rd/articles/CBMiXmh0dHBzOi8vdmVnYXMuZWF0ZXIuY29tLzIwMjAvNi8xMi8yMTI4OTUwMC9wYXJpcy1sYXMtdmVnYXMtcmVvcGVucy1yZXN0YXVyYW50cy1iYXJzLW9uLWp1bmUtMTjSAWtodHRwczovL3ZlZ2FzLmVhdGVyLmNvbS9wbGF0Zm9ybS9hbXAvMjAyMC82LzEyLzIxMjg5NTAwL3BhcmlzLWxhcy12ZWdhcy1yZW9wZW5zLXJlc3RhdXJhbnRzLWJhcnMtb24tanVuZS0xOA?oc=5\n",
            "Fri, 12 Jun 2020 18:35:09 GMT\n",
            "------------------------------------------------------------\n",
            "24\n",
            "'Answer the phone!' Slow PUA payments lead to Las Vegas protest - News3LV\n",
            "https://news.google.com/__i/rss/rd/articles/CBMiWmh0dHA6Ly9uZXdzM2x2LmNvbS9uZXdzL2xvY2FsL2Fuc3dlci10aGUtcGhvbmUtc2xvdy1wdWEtcGF5bWVudHMtbGVhZC10by1sYXMtdmVnYXMtcHJvdGVzdNIBX2h0dHBzOi8vbmV3czNsdi5jb20vYW1wL25ld3MvbG9jYWwvYW5zd2VyLXRoZS1waG9uZS1zbG93LXB1YS1wYXltZW50cy1sZWFkLXRvLWxhcy12ZWdhcy1wcm90ZXN0?oc=5\n",
            "Sat, 13 Jun 2020 01:39:57 GMT\n",
            "------------------------------------------------------------\n",
            "25\n",
            "Oil Equipment Auctions Boom As Companies Rush To Sell - OilPrice.com\n",
            "https://news.google.com/__i/rss/rd/articles/CBMibWh0dHBzOi8vb2lscHJpY2UuY29tL0xhdGVzdC1FbmVyZ3ktTmV3cy9Xb3JsZC1OZXdzL09pbC1FcXVpcG1lbnQtQXVjdGlvbnMtQm9vbS1Bcy1Db21wYW5pZXMtUnVzaC1Uby1TZWxsLmh0bWzSAXFodHRwczovL29pbHByaWNlLmNvbS9MYXRlc3QtRW5lcmd5LU5ld3MvV29ybGQtTmV3cy9PaWwtRXF1aXBtZW50LUF1Y3Rpb25zLUJvb20tQXMtQ29tcGFuaWVzLVJ1c2gtVG8tU2VsbC5hbXAuaHRtbA?oc=5\n",
            "Fri, 12 Jun 2020 22:04:11 GMT\n",
            "------------------------------------------------------------\n",
            "26\n",
            "Walmart, CVS, Walgreens To End Practice Of Locking Up Black Beauty Products - NPR\n",
            "https://news.google.com/__i/rss/rd/articles/CBMipAFodHRwczovL3d3dy5ucHIub3JnL3NlY3Rpb25zL2xpdmUtdXBkYXRlcy1wcm90ZXN0cy1mb3ItcmFjaWFsLWp1c3RpY2UvMjAyMC8wNi8xMi84NzU5MDMxOTIvd2FsbWFydC1jdnMtd2FsZ3JlZW5zLXRvLWVuZC1wcmFjdGljZS1vZi1sb2NraW5nLXVwLWJsYWNrLWJlYXV0eS1wcm9kdWN0c9IBAA?oc=5\n",
            "Fri, 12 Jun 2020 20:47:10 GMT\n",
            "------------------------------------------------------------\n",
            "27\n",
            "Starbucks is closing up to 400 stores and expanding takeout options - CNN\n",
            "https://news.google.com/__i/rss/rd/articles/CBMiT2h0dHBzOi8vd3d3LmNubi5jb20vMjAyMC8wNi8xMC9idXNpbmVzcy9zdGFyYnVja3MtY2xvc2luZy00MDAtc3RvcmVzL2luZGV4Lmh0bWzSAVNodHRwczovL2FtcC5jbm4uY29tL2Nubi8yMDIwLzA2LzEwL2J1c2luZXNzL3N0YXJidWNrcy1jbG9zaW5nLTQwMC1zdG9yZXMvaW5kZXguaHRtbA?oc=5\n",
            "Thu, 11 Jun 2020 15:34:03 GMT\n",
            "------------------------------------------------------------\n",
            "28\n",
            "PG&E Gives Wildfire Victims More Stock in Bankruptcy Plan - The New York Times\n",
            "https://news.google.com/__i/rss/rd/articles/CBMiXmh0dHBzOi8vd3d3Lm55dGltZXMuY29tLzIwMjAvMDYvMTIvYnVzaW5lc3MvZW5lcmd5LWVudmlyb25tZW50L3BnZS13aWxkZmlyZS12aWN0aW1zLXN0b2NrLmh0bWzSAWJodHRwczovL3d3dy5ueXRpbWVzLmNvbS8yMDIwLzA2LzEyL2J1c2luZXNzL2VuZXJneS1lbnZpcm9ubWVudC9wZ2Utd2lsZGZpcmUtdmljdGltcy1zdG9jay5hbXAuaHRtbA?oc=5\n",
            "Fri, 12 Jun 2020 21:11:20 GMT\n",
            "------------------------------------------------------------\n",
            "29\n",
            "Nikola, Tesla Map Different Paths to Commercial Truck Market - The Wall Street Journal\n",
            "https://news.google.com/__i/rss/rd/articles/CBMiZGh0dHBzOi8vd3d3Lndzai5jb20vYXJ0aWNsZXMvbmlrb2xhLXRlc2xhLW1hcC1kaWZmZXJlbnQtcGF0aHMtdG8tY29tbWVyY2lhbC10cnVjay1tYXJrZXQtMTE1OTE5OTQxNTbSAQA?oc=5\n",
            "Fri, 12 Jun 2020 23:44:22 GMT\n",
            "------------------------------------------------------------\n",
            "30\n",
            "Fitness trainer fired for 'I Can't Breathe' workout - CNN\n",
            "https://news.google.com/__i/rss/rd/articles/CBMiWWh0dHBzOi8vd3d3LmNubi5jb20vMjAyMC8wNi8xMi91cy9maXRuZXNzLXRyYWluZXItZmlyZWQtaS1jYW50LWJyZWF0aGUtd29ya291dC9pbmRleC5odG1s0gFdaHR0cHM6Ly9hbXAuY25uLmNvbS9jbm4vMjAyMC8wNi8xMi91cy9maXRuZXNzLXRyYWluZXItZmlyZWQtaS1jYW50LWJyZWF0aGUtd29ya291dC9pbmRleC5odG1s?oc=5\n",
            "Fri, 12 Jun 2020 23:54:53 GMT\n",
            "------------------------------------------------------------\n",
            "31\n",
            "UK economy shrinks by record 20 per cent in April as lockdown hits business - Channel 4 News\n",
            "https://news.google.com/__i/rss/rd/articles/CBMiK2h0dHBzOi8vd3d3LnlvdXR1YmUuY29tL3dhdGNoP3Y9XzRRYVV6RnhCYjjSAQA?oc=5\n",
            "Fri, 12 Jun 2020 18:58:07 GMT\n",
            "------------------------------------------------------------\n",
            "32\n",
            "Jagan Okays Stalled Power Plant After Renegotiation!.. - Greatandhra.com\n",
            "https://news.google.com/__i/rss/rd/articles/CBMia2h0dHBzOi8vd3d3LmdyZWF0YW5kaHJhLmNvbS9wb2xpdGljcy9hbmRocmEtbmV3cy9qYWdhbi1va2F5cy1zdGFsbGVkLXBvd2VyLXBsYW50LWFmdGVyLXJlbmVnb3RpYXRpb24tMTA1Mzg50gFjaHR0cHM6Ly9tb2JpLmdyZWF0YW5kaHJhLmNvbS9hcnRpY2xlL2phZ2FuLW9rYXlzLXN0YWxsZWQtcG93ZXItcGxhbnQtYWZ0ZXItcmVuZWdvdGlhdGlvbi8xMDUzODkvYW1w?oc=5\n",
            "Sat, 13 Jun 2020 04:05:56 GMT\n",
            "------------------------------------------------------------\n",
            "33\n",
            "Following Amazon, Microsoft will no longer sell facial-recognition software to police - Fox News\n",
            "https://news.google.com/__i/rss/rd/articles/CBMiU2h0dHBzOi8vd3d3LmZveG5ld3MuY29tL3RlY2gvYW1hem9uLW1pY3Jvc29mdC1uby1mYWNpYWwtcmVjb2duaXRpb24tc29mdHdhcmUtcG9saWNl0gFXaHR0cHM6Ly93d3cuZm94bmV3cy5jb20vdGVjaC9hbWF6b24tbWljcm9zb2Z0LW5vLWZhY2lhbC1yZWNvZ25pdGlvbi1zb2Z0d2FyZS1wb2xpY2UuYW1w?oc=5\n",
            "Fri, 12 Jun 2020 21:37:15 GMT\n",
            "------------------------------------------------------------\n",
            "34\n",
            "Adobe stock closes just shy of record as coronavirus work-from-home trend boosts subscriptions - MarketWatch\n",
            "https://news.google.com/__i/rss/rd/articles/CBMiggFodHRwczovL3d3dy5tYXJrZXR3YXRjaC5jb20vc3RvcnkvYWRvYmUtc3RvY2stdHJhZGVzLWF0LXJlY29yZC1hcy1jb3JvbmF2aXJ1cy13b3JrLWZyb20taG9tZS10cmVuZC1ib29zdHMtc3Vic2NyaXB0aW9ucy0yMDIwLTA2LTEy0gFPaHR0cHM6Ly93d3cubWFya2V0d2F0Y2guY29tL2FtcC9zdG9yeS9ndWlkLzM4NUYwQkZBLUFDQkYtMTFFQS1BMjkzLUI2MTkxMjk0QTA5Nw?oc=5\n",
            "Fri, 12 Jun 2020 20:57:21 GMT\n",
            "------------------------------------------------------------\n",
            "35\n",
            "BART finally comes to San Jose Saturday: What you need to know about the new stations - The Mercury News\n",
            "https://news.google.com/__i/rss/rd/articles/CBMicGh0dHBzOi8vd3d3Lm1lcmN1cnluZXdzLmNvbS9iYXJ0LWZpbmFsbHktY29tZXMtdG8tc2FuLWpvc2Utc2F0dXJkYXktd2hhdC15b3UtbmVlZC10by1rbm93LWFib3V0LXRoZS1uZXctc3RhdGlvbnPSAYABaHR0cHM6Ly93d3cubWVyY3VyeW5ld3MuY29tLzIwMjAvMDYvMTIvYmFydC1maW5hbGx5LWNvbWVzLXRvLXNhbi1qb3NlLXNhdHVyZGF5LXdoYXQteW91LW5lZWQtdG8ta25vdy1hYm91dC10aGUtbmV3LXN0YXRpb25zL2FtcC8?oc=5\n",
            "Fri, 12 Jun 2020 16:47:14 GMT\n",
            "------------------------------------------------------------\n",
            "36\n",
            "24 Hour Fitness lays off Utah employees as part of company restructuring - KSL.com\n",
            "https://news.google.com/__i/rss/rd/articles/CBMibWh0dHBzOi8vd3d3LmtzbC5jb20vYXJ0aWNsZS80Njc2NDM5MS8yNC1ob3VyLWZpdG5lc3MtbGF5cy1vZmYtdXRhaC1lbXBsb3llZXMtYXMtcGFydC1vZi1jb21wYW55LXJlc3RydWN0dXJpbmfSAQA?oc=5\n",
            "Sat, 13 Jun 2020 00:33:17 GMT\n",
            "------------------------------------------------------------\n",
            "37\n",
            "New York state breweries looked doomed, but here's why there's new hope - Democrat & Chronicle\n",
            "https://news.google.com/__i/rss/rd/articles/CBMifGh0dHBzOi8vd3d3LmRlbW9jcmF0YW5kY2hyb25pY2xlLmNvbS9zdG9yeS9uZXdzLzIwMjAvMDYvMTIvbnktYnJld2VyaWVzLXJvY2hlc3Rlci1idWZmYWxvLXJlY292ZXJpbmctY29yb25hdmlydXMvMzEyMjc2MzAwMS_SATNodHRwczovL2FtcC5kZW1vY3JhdGFuZGNocm9uaWNsZS5jb20vYW1wLzMxMjI3NjMwMDE?oc=5\n",
            "Fri, 12 Jun 2020 14:45:55 GMT\n",
            "------------------------------------------------------------\n",
            "38\n",
            "Report: Quicken Loans is planning to go public - WDIV ClickOnDetroit\n",
            "https://news.google.com/__i/rss/rd/articles/CBMiY2h0dHBzOi8vd3d3LmNsaWNrb25kZXRyb2l0LmNvbS9uZXdzL2xvY2FsLzIwMjAvMDYvMTIvcmVwb3J0LXF1aWNrZW4tbG9hbnMtaXMtcGxhbm5pbmctdG8tZ28tcHVibGljL9IBcmh0dHBzOi8vd3d3LmNsaWNrb25kZXRyb2l0LmNvbS9uZXdzL2xvY2FsLzIwMjAvMDYvMTIvcmVwb3J0LXF1aWNrZW4tbG9hbnMtaXMtcGxhbm5pbmctdG8tZ28tcHVibGljLz9vdXRwdXRUeXBlPWFtcA?oc=5\n",
            "Fri, 12 Jun 2020 11:03:12 GMT\n",
            "------------------------------------------------------------\n",
            "39\n",
            "What rebound? North Dakota in economic crunch as virus batters oil, agriculture - Reuters\n",
            "https://news.google.com/__i/rss/rd/articles/CBMipAFodHRwczovL3d3dy5yZXV0ZXJzLmNvbS9hcnRpY2xlL3VzLWhlYWx0aC1jb3JvbmF2aXJ1cy11c2Etc3RhdGVzLWluc2lnaHQvd2hhdC1yZWJvdW5kLW5vcnRoLWRha290YS1pbi1lY29ub21pYy1jcnVuY2gtYXMtdmlydXMtYmF0dGVycy1vaWwtYWdyaWN1bHR1cmUtaWRVU0tCTjIzSjFJOdIBNGh0dHBzOi8vbW9iaWxlLnJldXRlcnMuY29tL2FydGljbGUvYW1wL2lkVVNLQk4yM0oxSTk?oc=5\n",
            "Fri, 12 Jun 2020 13:38:26 GMT\n",
            "------------------------------------------------------------\n",
            "40\n",
            "Springfield McDonald's employee tests positive for COVID-19 after working 7 days while sick - News-Leader\n",
            "https://news.google.com/__i/rss/rd/articles/CBMimQFodHRwczovL3d3dy5uZXdzLWxlYWRlci5jb20vc3RvcnkvbmV3cy9sb2NhbC9vemFya3MvMjAyMC8wNi8xMi9zcHJpbmdmaWVsZC1zYXlzLW1jZG9uYWxkcy1lbXBsb3llZS1wb3NpdGl2ZS1jb3ZpZC0xOS13b3JrZWQtd2hpbGUtc2ljay03LWRheXMvMzE3NTYwNzAwMS_SASpodHRwczovL2FtcC5uZXdzLWxlYWRlci5jb20vYW1wLzMxNzU2MDcwMDE?oc=5\n",
            "Fri, 12 Jun 2020 21:00:44 GMT\n",
            "------------------------------------------------------------\n",
            "41\n",
            "2021 Nissan Rogue Teased Ahead Of June 15 Debut - Motor1 \n",
            "https://news.google.com/__i/rss/rd/articles/CBMiR2h0dHBzOi8vd3d3Lm1vdG9yMS5jb20vbmV3cy80Mjg1MDcvMjAyMS1uaXNzYW4tcm9ndWUtdGVhc2VkLWp1bmUtZGVidXQv0gEA?oc=5\n",
            "Fri, 12 Jun 2020 18:02:27 GMT\n",
            "------------------------------------------------------------\n",
            "42\n",
            "Protesters march in support of local man who says Black Lives Matter mask cost him his job - WKBN.com\n",
            "https://news.google.com/__i/rss/rd/articles/CBMiZWh0dHBzOi8vd3d3LndrYm4uY29tL25ld3MvbG9jYWwtbmV3cy9wcm90ZXN0LXBsYW5uZWQtbmVhci1saWJlcnR5LXRhY28tYmVsbC13YWxtYXJ0LXNodXRzLWRvd24tZWFybHkv0gFpaHR0cHM6Ly93d3cud2tibi5jb20vbmV3cy9sb2NhbC1uZXdzL3Byb3Rlc3QtcGxhbm5lZC1uZWFyLWxpYmVydHktdGFjby1iZWxsLXdhbG1hcnQtc2h1dHMtZG93bi1lYXJseS9hbXAv?oc=5\n",
            "Fri, 12 Jun 2020 19:43:00 GMT\n",
            "------------------------------------------------------------\n",
            "43\n",
            "See Under Armour's wildly popular Sportsmask that sold out in less than an hour - Business Insider - Business Insider\n",
            "https://news.google.com/__i/rss/rd/articles/CBMiWWh0dHBzOi8vd3d3LmJ1c2luZXNzaW5zaWRlci5jb20vc2VlLXVuZGVyLWFybW91cnMtc29sZC1vdXQtMzAtc3BvcnRzbWFzay1pbi1hY3Rpb24tMjAyMC020gFdaHR0cHM6Ly93d3cuYnVzaW5lc3NpbnNpZGVyLmNvbS9zZWUtdW5kZXItYXJtb3Vycy1zb2xkLW91dC0zMC1zcG9ydHNtYXNrLWluLWFjdGlvbi0yMDIwLTY_YW1w?oc=5\n",
            "Fri, 12 Jun 2020 20:14:14 GMT\n",
            "------------------------------------------------------------\n",
            "44\n",
            "Arkansas Children's Hospital lays off 25, announces cost-saving measures due to COVID-19 - KATV\n",
            "https://news.google.com/__i/rss/rd/articles/CBMic2h0dHA6Ly9rYXR2LmNvbS9uZXdzL2xvY2FsL2Fya2Fuc2FzLWNoaWxkcmVucy1sYXlzLW9mZi0yNS1hbm5vdW5jZXMtY29zdC1zYXZpbmctbWVhc3VyZXMtYWNyb3NzLXN5c3RlbS1kdWUtdG8tY292aWTSAXhodHRwczovL2thdHYuY29tL2FtcC9uZXdzL2xvY2FsL2Fya2Fuc2FzLWNoaWxkcmVucy1sYXlzLW9mZi0yNS1hbm5vdW5jZXMtY29zdC1zYXZpbmctbWVhc3VyZXMtYWNyb3NzLXN5c3RlbS1kdWUtdG8tY292aWQ?oc=5\n",
            "Fri, 12 Jun 2020 21:03:00 GMT\n",
            "------------------------------------------------------------\n",
            "45\n",
            "Gamblers are back at Hard Rock and other South Florida casinos - WPLG Local 10\n",
            "https://news.google.com/__i/rss/rd/articles/CBMibWh0dHBzOi8vd3d3LmxvY2FsMTAuY29tL25ld3MvbG9jYWwvMjAyMC8wNi8xMi9nYW1ibGVycy1hcmUtYmFjay1hdC1oYXJkLXJvY2stYW5kLW90aGVyLXNvdXRoLWZsb3JpZGEtY2FzaW5vcy_SAXxodHRwczovL3d3dy5sb2NhbDEwLmNvbS9uZXdzL2xvY2FsLzIwMjAvMDYvMTIvZ2FtYmxlcnMtYXJlLWJhY2stYXQtaGFyZC1yb2NrLWFuZC1vdGhlci1zb3V0aC1mbG9yaWRhLWNhc2lub3MvP291dHB1dFR5cGU9YW1w?oc=5\n",
            "Sat, 13 Jun 2020 00:01:37 GMT\n",
            "------------------------------------------------------------\n",
            "46\n",
            "Breakthrough coronavirus drug may treat and even prevent infections - BGR\n",
            "https://news.google.com/__i/rss/rd/articles/CBMiZWh0dHBzOi8vYmdyLmNvbS8yMDIwLzA2LzEyL2Nvcm9uYXZpcnVzLWRydWdzLW1vbm9jbG9uYWwtYW50aWJvZGllcy10aGVyYXB5LXJlZ2VuZXJvbi1yZWctY292Mi10cmlhbHMv0gFpaHR0cHM6Ly9iZ3IuY29tLzIwMjAvMDYvMTIvY29yb25hdmlydXMtZHJ1Z3MtbW9ub2Nsb25hbC1hbnRpYm9kaWVzLXRoZXJhcHktcmVnZW5lcm9uLXJlZy1jb3YyLXRyaWFscy9hbXAv?oc=5\n",
            "Fri, 12 Jun 2020 15:16:16 GMT\n",
            "------------------------------------------------------------\n",
            "47\n",
            "Bikes, Blues and BBQ canceled - 4029tv\n",
            "https://news.google.com/__i/rss/rd/articles/CBMiRGh0dHBzOi8vd3d3LjQwMjl0di5jb20vYXJ0aWNsZS9iaWtlcy1ibHVlcy1hbmQtYmJxLWNhbmNlbGVkLzMyODU1MTE30gFIaHR0cHM6Ly93d3cuNDAyOXR2LmNvbS9hbXAvYXJ0aWNsZS9iaWtlcy1ibHVlcy1hbmQtYmJxLWNhbmNlbGVkLzMyODU1MTE3?oc=5\n",
            "Fri, 12 Jun 2020 22:03:00 GMT\n",
            "------------------------------------------------------------\n",
            "48\n",
            "Wall Street ends higher but indexes mark worst week in more than two months - Reuters\n",
            "https://news.google.com/__i/rss/rd/articles/CBMiLWh0dHBzOi8vd3d3LnJldXRlcnMuY29tL2FydGljbGUvaWRVU0w0TjJEUDJCTtIBNGh0dHBzOi8vbW9iaWxlLnJldXRlcnMuY29tL2FydGljbGUvYW1wL2lkVVNLQk4yM0oxTU0?oc=5\n",
            "Fri, 12 Jun 2020 23:36:18 GMT\n",
            "------------------------------------------------------------\n",
            "49\n",
            "Coronavirus: Six more Bay Area deaths; number of confirmed cases rising - The Mercury News\n",
            "https://news.google.com/__i/rss/rd/articles/CBMiYWh0dHBzOi8vd3d3Lm1lcmN1cnluZXdzLmNvbS9jb3JvbmF2aXJ1cy1zaXgtbW9yZS1iYXktYXJlYS1kZWF0aHMtbnVtYmVyLW9mLWNvbmZpcm1lZC1jYXNlcy1yaXNpbmfSAXFodHRwczovL3d3dy5tZXJjdXJ5bmV3cy5jb20vMjAyMC8wNi8xMS9jb3JvbmF2aXJ1cy1zaXgtbW9yZS1iYXktYXJlYS1kZWF0aHMtbnVtYmVyLW9mLWNvbmZpcm1lZC1jYXNlcy1yaXNpbmcvYW1wLw?oc=5\n",
            "Fri, 12 Jun 2020 10:51:28 GMT\n",
            "------------------------------------------------------------\n",
            "50\n",
            "Nestlé Weighs Sale of Water Unit in Push Toward Sustainability - The New York Times\n",
            "https://news.google.com/__i/rss/rd/articles/CBMiSWh0dHBzOi8vd3d3Lm55dGltZXMuY29tLzIwMjAvMDYvMTEvYnVzaW5lc3MvbmVzdGxlLXVzLXdhdGVyLWJ1c2luZXNzLmh0bWzSAU1odHRwczovL3d3dy5ueXRpbWVzLmNvbS8yMDIwLzA2LzExL2J1c2luZXNzL25lc3RsZS11cy13YXRlci1idXNpbmVzcy5hbXAuaHRtbA?oc=5\n",
            "Thu, 11 Jun 2020 19:48:45 GMT\n",
            "------------------------------------------------------------\n",
            "51\n",
            "Tesla Cybertruck is beating a titanic rival to market, and it’s getting even better - Teslarati\n",
            "https://news.google.com/__i/rss/rd/articles/CBMiUWh0dHBzOi8vd3d3LnRlc2xhcmF0aS5jb20vdGVzbGEtY3liZXJ0cnVjay12cy1mb3JkLWYxNTAtZXYtcmVsZWFzZS1kYXRlLXVwZ3JhZGVzL9IBVWh0dHBzOi8vd3d3LnRlc2xhcmF0aS5jb20vdGVzbGEtY3liZXJ0cnVjay12cy1mb3JkLWYxNTAtZXYtcmVsZWFzZS1kYXRlLXVwZ3JhZGVzL2FtcC8?oc=5\n",
            "Fri, 12 Jun 2020 06:50:50 GMT\n",
            "------------------------------------------------------------\n",
            "52\n",
            "Recent Sale: Boeing - Seeking Alpha\n",
            "https://news.google.com/__i/rss/rd/articles/CBMiO2h0dHBzOi8vc2Vla2luZ2FscGhhLmNvbS9hcnRpY2xlLzQzNTM0NTEtcmVjZW50LXNhbGUtYm9laW5n0gE_aHR0cHM6Ly9zZWVraW5nYWxwaGEuY29tL2FtcC9hcnRpY2xlLzQzNTM0NTEtcmVjZW50LXNhbGUtYm9laW5n?oc=5\n",
            "Fri, 12 Jun 2020 04:50:46 GMT\n",
            "------------------------------------------------------------\n",
            "53\n",
            "Who bought all the toilet paper? Study suggests who was most likely to stockpile during COVID-19 - NBC News\n",
            "https://news.google.com/__i/rss/rd/articles/CBMia2h0dHBzOi8vd3d3Lm5iY25ld3MuY29tL2hlYWx0aC9oZWFsdGgtbmV3cy93aG8tYm91Z2h0LWFsbC10b2lsZXQtcGFwZXItc3R1ZHktc3VnZ2VzdHMtd2hvLXdhcy1tb3N0LW4xMjMwNTg20gEsaHR0cHM6Ly93d3cubmJjbmV3cy5jb20vbmV3cy9hbXAvbmNuYTEyMzA1ODY?oc=5\n",
            "Fri, 12 Jun 2020 18:01:47 GMT\n",
            "------------------------------------------------------------\n",
            "54\n",
            "Kroger set to return to regular business hours Sunday - WDBJ7\n",
            "https://news.google.com/__i/rss/rd/articles/CBMiZ2h0dHBzOi8vd3d3LndkYmo3LmNvbS9jb250ZW50L25ld3MvS3JvZ2VyLXNldC10by1yZXR1cm4tdG8tcmVndWxhci1idXNpbmVzcy1ob3Vycy1TdW5kYXktNTcxMjIzMDExLmh0bWzSAQA?oc=5\n",
            "Fri, 12 Jun 2020 20:42:52 GMT\n",
            "------------------------------------------------------------\n",
            "55\n",
            "FDA approves Viela's rare disease treatment, analysts predict $500 million in sales - MarketWatch\n",
            "https://news.google.com/__i/rss/rd/articles/CBMifGh0dHA6Ly93d3cubWFya2V0d2F0Y2guY29tL3N0b3J5L2ZkYS1hcHByb3Zlcy12aWVsYXMtcmFyZS1kaXNlYXNlLXRyZWF0bWVudC1hbmFseXN0cy1wcmVkaWN0LTUwMC1taWxsaW9uLWluLXNhbGVzLTIwMjAtMDYtMTLSAU9odHRwczovL3d3dy5tYXJrZXR3YXRjaC5jb20vYW1wL3N0b3J5L2d1aWQvNDgwNzcxMjAtOTk5MC00MTY2LTlDMUMtMTJDNTk5MDQ3QkEz?oc=5\n",
            "Fri, 12 Jun 2020 12:45:00 GMT\n",
            "------------------------------------------------------------\n",
            "56\n",
            "Natural Gas Price Fundamental Daily Forecast - Rangebound as Renewed Coronavirus Fears Cap Gains - FX Empire\n",
            "https://news.google.com/__i/rss/rd/articles/CBMikAFodHRwczovL3d3dy5meGVtcGlyZS5jb20vZm9yZWNhc3RzL2FydGljbGUvbmF0dXJhbC1nYXMtcHJpY2UtZnVuZGFtZW50YWwtZGFpbHktZm9yZWNhc3QtcmFuZ2Vib3VuZC1hcy1yZW5ld2VkLWNvcm9uYXZpcnVzLWZlYXJzLWNhcC1nYWlucy02NTQ5MTjSAQA?oc=5\n",
            "Fri, 12 Jun 2020 12:21:04 GMT\n",
            "------------------------------------------------------------\n",
            "57\n",
            "Bitcoin Market Dynamics See Change After BTC Reward Halving - Cointelegraph\n",
            "https://news.google.com/__i/rss/rd/articles/CBMiWmh0dHBzOi8vY29pbnRlbGVncmFwaC5jb20vbmV3cy9iaXRjb2luLW1hcmtldC1keW5hbWljcy1zZWUtY2hhbmdlLWFmdGVyLWJ0Yy1yZXdhcmQtaGFsdmluZ9IBXmh0dHBzOi8vY29pbnRlbGVncmFwaC5jb20vbmV3cy9iaXRjb2luLW1hcmtldC1keW5hbWljcy1zZWUtY2hhbmdlLWFmdGVyLWJ0Yy1yZXdhcmQtaGFsdmluZy9hbXA?oc=5\n",
            "Sat, 13 Jun 2020 05:03:37 GMT\n",
            "------------------------------------------------------------\n",
            "58\n",
            "Tesla tries to calm coronavirus fears at California plant: Report - Fox Business\n",
            "https://news.google.com/__i/rss/rd/articles/CBMiZ2h0dHBzOi8vd3d3LmZveGJ1c2luZXNzLmNvbS90ZWNobm9sb2d5L3Rlc2xhLXRyaWVzLXRvLWNhbG0tY29yb25hdmlydXMtZmVhcnMtYXQtY2FsaWZvcm5pYS1wbGFudC1yZXBvcnTSAWtodHRwczovL3d3dy5mb3hidXNpbmVzcy5jb20vdGVjaG5vbG9neS90ZXNsYS10cmllcy10by1jYWxtLWNvcm9uYXZpcnVzLWZlYXJzLWF0LWNhbGlmb3JuaWEtcGxhbnQtcmVwb3J0LmFtcA?oc=5\n",
            "Sat, 13 Jun 2020 01:40:19 GMT\n",
            "------------------------------------------------------------\n",
            "59\n",
            "Tyson tests all workers at Berry Street facility in Springdale for coronavirus, 199 cases found - 5newsonline.com\n",
            "https://news.google.com/__i/rss/rd/articles/CBMijwFodHRwczovL3d3dy41bmV3c29ubGluZS5jb20vYXJ0aWNsZS9uZXdzL2xvY2FsL3R5c29uLWZvb2RzLXNwcmluZ2RhbGUtY29yb25hdmlydXMtdGVzdGluZy1iZXJyeS1zdHJlZXQvNTI3LTQ2MzAyOTU2LWQzMWItNDFmZS1iYTQzLWNhMGM2ODAwMWJlNtIBkwFodHRwczovL3d3dy41bmV3c29ubGluZS5jb20vYW1wL2FydGljbGUvbmV3cy9sb2NhbC90eXNvbi1mb29kcy1zcHJpbmdkYWxlLWNvcm9uYXZpcnVzLXRlc3RpbmctYmVycnktc3RyZWV0LzUyNy00NjMwMjk1Ni1kMzFiLTQxZmUtYmE0My1jYTBjNjgwMDFiZTY?oc=5\n",
            "Thu, 11 Jun 2020 21:26:00 GMT\n",
            "------------------------------------------------------------\n",
            "60\n",
            "Just When You Thought We Were Done Talking About All-Time Lows - Mortgage News Daily\n",
            "https://news.google.com/__i/rss/rd/articles/CBMiO2h0dHA6Ly93d3cubW9ydGdhZ2VuZXdzZGFpbHkuY29tL2NvbnN1bWVyX3JhdGVzLzk0NzA0MC5hc3B40gEA?oc=5\n",
            "Fri, 12 Jun 2020 20:58:30 GMT\n",
            "------------------------------------------------------------\n",
            "61\n",
            "Yum Brands, Parent Company of Taco Bell and KFC, Is Suing Grubhub - Eater\n",
            "https://news.google.com/__i/rss/rd/articles/CBMiTmh0dHBzOi8vd3d3LmVhdGVyLmNvbS8yMDIwLzYvMTIvMjEyODkwNjgveXVtLWJyYW5kcy10YWNvLWJlbGwta2ZjLXN1ZXMtZ3J1Ymh1YtIBW2h0dHBzOi8vd3d3LmVhdGVyLmNvbS9wbGF0Zm9ybS9hbXAvMjAyMC82LzEyLzIxMjg5MDY4L3l1bS1icmFuZHMtdGFjby1iZWxsLWtmYy1zdWVzLWdydWJodWI?oc=5\n",
            "Fri, 12 Jun 2020 15:13:04 GMT\n",
            "------------------------------------------------------------\n",
            "62\n",
            "Seeking to cut wait times, Illinois Secretary of State’s office launches online pre-registration for licenses, - Chicago Tribune\n",
            "https://news.google.com/__i/rss/rd/articles/CBMifWh0dHBzOi8vd3d3LmNoaWNhZ290cmlidW5lLmNvbS9jb3JvbmF2aXJ1cy9jdC1pbGxpbm9pcy1kbXYtb25saW5lLXJlZ2lzdHJhdGlvbi0yMDIwMDYxMi1nZ3N1aWljYmNuZXd6bHhxNTVzZmhya3VqNC1zdG9yeS5odG1s0gGMAWh0dHBzOi8vd3d3LmNoaWNhZ290cmlidW5lLmNvbS9jb3JvbmF2aXJ1cy9jdC1pbGxpbm9pcy1kbXYtb25saW5lLXJlZ2lzdHJhdGlvbi0yMDIwMDYxMi1nZ3N1aWljYmNuZXd6bHhxNTVzZmhya3VqNC1zdG9yeS5odG1sP291dHB1dFR5cGU9YW1w?oc=5\n",
            "Fri, 12 Jun 2020 15:45:26 GMT\n",
            "------------------------------------------------------------\n",
            "63\n",
            "Volkswagen launches home EV charging system sales ahead of ID.3 vehicle deliveries - TechCrunch\n",
            "https://news.google.com/__i/rss/rd/articles/CBMidWh0dHBzOi8vdGVjaGNydW5jaC5jb20vMjAyMC8wNi8xMi92b2xrc3dhZ2VuLWxhdW5jaGVzLWhvbWUtZXYtY2hhcmdpbmctc3lzdGVtLXNhbGVzLWFoZWFkLW9mLWlkLTMtdmVoaWNsZS1kZWxpdmVyaWVzL9IBeWh0dHBzOi8vdGVjaGNydW5jaC5jb20vMjAyMC8wNi8xMi92b2xrc3dhZ2VuLWxhdW5jaGVzLWhvbWUtZXYtY2hhcmdpbmctc3lzdGVtLXNhbGVzLWFoZWFkLW9mLWlkLTMtdmVoaWNsZS1kZWxpdmVyaWVzL2FtcC8?oc=5\n",
            "Fri, 12 Jun 2020 18:59:00 GMT\n",
            "------------------------------------------------------------\n",
            "64\n",
            "Inigo Philbrick, art world's 'mini-Madoff,' arrested on remote Pacific island for $20 million fraud: Prosecutors - ABC News\n",
            "https://news.google.com/__i/rss/rd/articles/CBMiYWh0dHBzOi8vYWJjbmV3cy5nby5jb20vVVMvYXJ0LXdvcmxkcy1taW5pLW1hZG9mZi1hcnJlc3RlZC1yZW1vdGUtcGFjaWZpYy1pc2xhbmQvc3Rvcnk_aWQ9NzEyMjc4NTPSAWVodHRwczovL2FiY25ld3MuZ28uY29tL2FtcC9VUy9hcnQtd29ybGRzLW1pbmktbWFkb2ZmLWFycmVzdGVkLXJlbW90ZS1wYWNpZmljLWlzbGFuZC9zdG9yeT9pZD03MTIyNzg1Mw?oc=5\n",
            "Fri, 12 Jun 2020 22:04:05 GMT\n",
            "------------------------------------------------------------\n",
            "65\n",
            "New Whatcom COVID-19 outbreaks linked to recreational social gatherings in Phase 1 - Bellingham Herald\n",
            "https://news.google.com/__i/rss/rd/articles/CBMiR2h0dHBzOi8vd3d3LmJlbGxpbmdoYW1oZXJhbGQuY29tL25ld3MvY29yb25hdmlydXMvYXJ0aWNsZTI0MzUwODgwNi5odG1s0gFHaHR0cHM6Ly9hbXAuYmVsbGluZ2hhbWhlcmFsZC5jb20vbmV3cy9jb3JvbmF2aXJ1cy9hcnRpY2xlMjQzNTA4ODA2Lmh0bWw?oc=5\n",
            "Sat, 13 Jun 2020 01:40:21 GMT\n",
            "------------------------------------------------------------\n",
            "66\n",
            "Facing The Possibility Of Bankruptcy, Chuck E. Cheese Stores May Have To Permanently Close - Delish\n",
            "https://news.google.com/__i/rss/rd/articles/CBMiWGh0dHBzOi8vd3d3LmRlbGlzaC5jb20vZm9vZC1uZXdzL2EzMjg1MjAzNC9jaHVjay1lLWNoZWVzZS1zdG9yZXMtYmFua3J1cHRjeS1wb3NzaWJpbGl0eS_SAVpodHRwczovL3d3dy5kZWxpc2guY29tL2Zvb2QtbmV3cy9hbXAzMjg1MjAzNC9jaHVjay1lLWNoZWVzZS1zdG9yZXMtYmFua3J1cHRjeS1wb3NzaWJpbGl0eS8?oc=5\n",
            "Sat, 13 Jun 2020 00:39:15 GMT\n",
            "------------------------------------------------------------\n",
            "67\n",
            "Walmart replaces cashiers with self-checkout counters in test at Arkansas store - WJW FOX 8 News Cleveland\n",
            "https://news.google.com/__i/rss/rd/articles/CBMiZmh0dHBzOi8vZm94OC5jb20vbmV3cy93YWxtYXJ0LXJlcGxhY2VzLWNhc2hpZXJzLXdpdGgtc2VsZi1jaGVja291dC1jb3VudGVycy1pbi10ZXN0LWF0LWFya2Fuc2FzLXN0b3JlL9IBamh0dHBzOi8vZm94OC5jb20vbmV3cy93YWxtYXJ0LXJlcGxhY2VzLWNhc2hpZXJzLXdpdGgtc2VsZi1jaGVja291dC1jb3VudGVycy1pbi10ZXN0LWF0LWFya2Fuc2FzLXN0b3JlL2FtcC8?oc=5\n",
            "Fri, 12 Jun 2020 22:53:46 GMT\n",
            "------------------------------------------------------------\n",
            "68\n",
            "Range Resources to pay $50000 in fines and $100000 in contributions for Washington County well violations - TribLIVE\n",
            "https://news.google.com/__i/rss/rd/articles/CBMijAFodHRwczovL3RyaWJsaXZlLmNvbS9sb2NhbC9yZWdpb25hbC9yYW5nZS1yZXNvdXJjZXMtdG8tcGF5LTUwMDAwLWluLWZpbmVzLWFuZC0xMDAwMDAtaW4tY29udHJpYnV0aW9ucy1mb3Itd2FzaGluZ3Rvbi1jb3VudHktd2VsbC12aW9sYXRpb25zL9IBAA?oc=5\n",
            "Fri, 12 Jun 2020 18:59:53 GMT\n",
            "------------------------------------------------------------\n",
            "69\n",
            "Tencent buys $200m+ stake in Warner Music Group - Music Business Worldwide\n",
            "https://news.google.com/__i/rss/rd/articles/CBMiW2h0dHBzOi8vd3d3Lm11c2ljYnVzaW5lc3N3b3JsZHdpZGUuY29tL3RlbmNlbnQtbXVzaWMtYnV5cy0xMDBtLXN0YWtlLWluLXdhcm5lci1tdXNpYy1ncm91cC_SAQA?oc=5\n",
            "Fri, 12 Jun 2020 15:29:00 GMT\n",
            "------------------------------------------------------------\n"
          ],
          "name": "stdout"
        }
      ]
    },
    {
      "cell_type": "code",
      "metadata": {
        "id": "V6Bnrwv5E7WF",
        "colab": {
          "base_uri": "https://localhost:8080/",
          "height": 55
        },
        "outputId": "9f73115c-a2f5-4749-ea38-4d39333e62a4"
      },
      "source": [
        "website[33]"
      ],
      "execution_count": null,
      "outputs": [
        {
          "output_type": "execute_result",
          "data": {
            "text/plain": [
              "'https://news.google.com/__i/rss/rd/articles/CBMiU2h0dHBzOi8vd3d3LmZveG5ld3MuY29tL3RlY2gvYW1hem9uLW1pY3Jvc29mdC1uby1mYWNpYWwtcmVjb2duaXRpb24tc29mdHdhcmUtcG9saWNl0gFXaHR0cHM6Ly93d3cuZm94bmV3cy5jb20vdGVjaC9hbWF6b24tbWljcm9zb2Z0LW5vLWZhY2lhbC1yZWNvZ25pdGlvbi1zb2Z0d2FyZS1wb2xpY2UuYW1w?oc=5'"
            ]
          },
          "metadata": {
            "tags": []
          },
          "execution_count": 42
        }
      ]
    },
    {
      "cell_type": "code",
      "metadata": {
        "id": "_349vfz089ND",
        "colab": {
          "base_uri": "https://localhost:8080/",
          "height": 35
        },
        "outputId": "18cfaba6-bc39-491f-bb7c-5069673001c7"
      },
      "source": [
        "#Mount google drive to google colab virtual machine\n",
        "from google.colab import drive\n",
        "drive.mount('/content/drive')\n",
        "mydrive =\"/content/drive/My Drive/\""
      ],
      "execution_count": null,
      "outputs": [
        {
          "output_type": "stream",
          "text": [
            "Drive already mounted at /content/drive; to attempt to forcibly remount, call drive.mount(\"/content/drive\", force_remount=True).\n"
          ],
          "name": "stdout"
        }
      ]
    },
    {
      "cell_type": "code",
      "metadata": {
        "id": "Yjhxc36Xoksl",
        "colab": {
          "base_uri": "https://localhost:8080/",
          "height": 407
        },
        "outputId": "2bc8e22c-4b78-429b-90f2-fa28ccdf27a2"
      },
      "source": [
        "import pandas as pd\n",
        "import datetime\n",
        "t = str(datetime.date.today())\n",
        "dataframe = pd.DataFrame({'news':news_title})\n",
        "#將DataFrame儲存為csv,index表示是否顯示行名，default=True\n",
        "dataframe.to_csv(mydrive+\"news\"+ t + \".csv\",index=False,sep=',')\n",
        "'''同樣pandas也提供簡單的讀csv方法'''\n",
        "csv_data = pd.read_csv(mydrive+\"news\"+ t + \".csv\") # 讀取訓練資料\n",
        "csv_data"
      ],
      "execution_count": null,
      "outputs": [
        {
          "output_type": "execute_result",
          "data": {
            "text/html": [
              "<div>\n",
              "<style scoped>\n",
              "    .dataframe tbody tr th:only-of-type {\n",
              "        vertical-align: middle;\n",
              "    }\n",
              "\n",
              "    .dataframe tbody tr th {\n",
              "        vertical-align: top;\n",
              "    }\n",
              "\n",
              "    .dataframe thead th {\n",
              "        text-align: right;\n",
              "    }\n",
              "</style>\n",
              "<table border=\"1\" class=\"dataframe\">\n",
              "  <thead>\n",
              "    <tr style=\"text-align: right;\">\n",
              "      <th></th>\n",
              "      <th>news</th>\n",
              "    </tr>\n",
              "  </thead>\n",
              "  <tbody>\n",
              "    <tr>\n",
              "      <th>0</th>\n",
              "      <td>Ben McAdams ‘outraged’ over refusal to disclos...</td>\n",
              "    </tr>\n",
              "    <tr>\n",
              "      <th>1</th>\n",
              "      <td>Hertz allowed to sell $1 bn in shares despite ...</td>\n",
              "    </tr>\n",
              "    <tr>\n",
              "      <th>2</th>\n",
              "      <td>Amazon's Reportedly Fielding Probes From Calif...</td>\n",
              "    </tr>\n",
              "    <tr>\n",
              "      <th>3</th>\n",
              "      <td>Apple renames Buchanan Street store as Glasgow...</td>\n",
              "    </tr>\n",
              "    <tr>\n",
              "      <th>4</th>\n",
              "      <td>AmEx Wins Clearing License for China’s $27 Tri...</td>\n",
              "    </tr>\n",
              "    <tr>\n",
              "      <th>...</th>\n",
              "      <td>...</td>\n",
              "    </tr>\n",
              "    <tr>\n",
              "      <th>65</th>\n",
              "      <td>New Whatcom COVID-19 outbreaks linked to recre...</td>\n",
              "    </tr>\n",
              "    <tr>\n",
              "      <th>66</th>\n",
              "      <td>Facing The Possibility Of Bankruptcy, Chuck E....</td>\n",
              "    </tr>\n",
              "    <tr>\n",
              "      <th>67</th>\n",
              "      <td>Walmart replaces cashiers with self-checkout c...</td>\n",
              "    </tr>\n",
              "    <tr>\n",
              "      <th>68</th>\n",
              "      <td>Range Resources to pay $50000 in fines and $10...</td>\n",
              "    </tr>\n",
              "    <tr>\n",
              "      <th>69</th>\n",
              "      <td>Tencent buys $200m+ stake in Warner Music Grou...</td>\n",
              "    </tr>\n",
              "  </tbody>\n",
              "</table>\n",
              "<p>70 rows × 1 columns</p>\n",
              "</div>"
            ],
            "text/plain": [
              "                                                 news\n",
              "0   Ben McAdams ‘outraged’ over refusal to disclos...\n",
              "1   Hertz allowed to sell $1 bn in shares despite ...\n",
              "2   Amazon's Reportedly Fielding Probes From Calif...\n",
              "3   Apple renames Buchanan Street store as Glasgow...\n",
              "4   AmEx Wins Clearing License for China’s $27 Tri...\n",
              "..                                                ...\n",
              "65  New Whatcom COVID-19 outbreaks linked to recre...\n",
              "66  Facing The Possibility Of Bankruptcy, Chuck E....\n",
              "67  Walmart replaces cashiers with self-checkout c...\n",
              "68  Range Resources to pay $50000 in fines and $10...\n",
              "69  Tencent buys $200m+ stake in Warner Music Grou...\n",
              "\n",
              "[70 rows x 1 columns]"
            ]
          },
          "metadata": {
            "tags": []
          },
          "execution_count": 44
        }
      ]
    },
    {
      "cell_type": "markdown",
      "metadata": {
        "id": "znrz3omWsq5B"
      },
      "source": [
        "# US Stock"
      ]
    },
    {
      "cell_type": "code",
      "metadata": {
        "id": "G3tUoa-vsOkz",
        "colab": {
          "base_uri": "https://localhost:8080/",
          "height": 35
        },
        "outputId": "fbe325aa-89cb-4b0d-faf9-817976bb43c9"
      },
      "source": [
        "import time\n",
        "stock_name_US=str(input(\"stock code :\" ))\n",
        "urlst1=\"https://query1.finance.yahoo.com/v7/finance/download/\"\n",
        "urlst2=stock_name_US #user's input\n",
        "urlst3=\"?period1=\"\n",
        "urlst4=\"&period2=\"\n",
        "urlst5=\"&interval=1d&events=history\"\n",
        "t2=round(time.time())\n",
        "t1=t2-86400*14"
      ],
      "execution_count": null,
      "outputs": [
        {
          "output_type": "stream",
          "text": [
            "stock code :AAPL\n"
          ],
          "name": "stdout"
        }
      ]
    },
    {
      "cell_type": "code",
      "metadata": {
        "id": "HRl53X3RtkmV",
        "colab": {
          "base_uri": "https://localhost:8080/",
          "height": 418
        },
        "outputId": "812e9b5f-bc6c-4c15-da19-4f19f6743054"
      },
      "source": [
        "#download data from google drive\n",
        "import gdown\n",
        "url_ST_US=urlst1 +urlst2+urlst3+str(t1) + urlst4+ str(t2) + urlst5\n",
        "gdown.download(url_ST_US, mydrive+\"stock price us.csv\", quiet=False)\n",
        "ST_US_data = pd.read_csv(mydrive+'stock price us.csv')\n",
        "ST_US_data"
      ],
      "execution_count": null,
      "outputs": [
        {
          "output_type": "stream",
          "text": [
            "Downloading...\n",
            "From: https://query1.finance.yahoo.com/v7/finance/download/AAPL?period1=1590839241&period2=1592048841&interval=1d&events=history\n",
            "To: /content/drive/My Drive/stock price us.csv\n",
            "791B [00:00, 212kB/s]                    \n"
          ],
          "name": "stderr"
        },
        {
          "output_type": "execute_result",
          "data": {
            "text/html": [
              "<div>\n",
              "<style scoped>\n",
              "    .dataframe tbody tr th:only-of-type {\n",
              "        vertical-align: middle;\n",
              "    }\n",
              "\n",
              "    .dataframe tbody tr th {\n",
              "        vertical-align: top;\n",
              "    }\n",
              "\n",
              "    .dataframe thead th {\n",
              "        text-align: right;\n",
              "    }\n",
              "</style>\n",
              "<table border=\"1\" class=\"dataframe\">\n",
              "  <thead>\n",
              "    <tr style=\"text-align: right;\">\n",
              "      <th></th>\n",
              "      <th>Date</th>\n",
              "      <th>Open</th>\n",
              "      <th>High</th>\n",
              "      <th>Low</th>\n",
              "      <th>Close</th>\n",
              "      <th>Adj Close</th>\n",
              "      <th>Volume</th>\n",
              "    </tr>\n",
              "  </thead>\n",
              "  <tbody>\n",
              "    <tr>\n",
              "      <th>0</th>\n",
              "      <td>2020-06-01</td>\n",
              "      <td>317.750000</td>\n",
              "      <td>322.350006</td>\n",
              "      <td>317.209991</td>\n",
              "      <td>321.850006</td>\n",
              "      <td>321.850006</td>\n",
              "      <td>20197800</td>\n",
              "    </tr>\n",
              "    <tr>\n",
              "      <th>1</th>\n",
              "      <td>2020-06-02</td>\n",
              "      <td>320.750000</td>\n",
              "      <td>323.440002</td>\n",
              "      <td>318.929993</td>\n",
              "      <td>323.339996</td>\n",
              "      <td>323.339996</td>\n",
              "      <td>21910700</td>\n",
              "    </tr>\n",
              "    <tr>\n",
              "      <th>2</th>\n",
              "      <td>2020-06-03</td>\n",
              "      <td>324.660004</td>\n",
              "      <td>326.200012</td>\n",
              "      <td>322.299988</td>\n",
              "      <td>325.119995</td>\n",
              "      <td>325.119995</td>\n",
              "      <td>26122800</td>\n",
              "    </tr>\n",
              "    <tr>\n",
              "      <th>3</th>\n",
              "      <td>2020-06-04</td>\n",
              "      <td>324.390015</td>\n",
              "      <td>325.619995</td>\n",
              "      <td>320.779999</td>\n",
              "      <td>322.320007</td>\n",
              "      <td>322.320007</td>\n",
              "      <td>21890100</td>\n",
              "    </tr>\n",
              "    <tr>\n",
              "      <th>4</th>\n",
              "      <td>2020-06-05</td>\n",
              "      <td>323.350006</td>\n",
              "      <td>331.750000</td>\n",
              "      <td>323.230011</td>\n",
              "      <td>331.500000</td>\n",
              "      <td>331.500000</td>\n",
              "      <td>34312600</td>\n",
              "    </tr>\n",
              "    <tr>\n",
              "      <th>5</th>\n",
              "      <td>2020-06-08</td>\n",
              "      <td>330.250000</td>\n",
              "      <td>333.600006</td>\n",
              "      <td>327.320007</td>\n",
              "      <td>333.459991</td>\n",
              "      <td>333.459991</td>\n",
              "      <td>23913600</td>\n",
              "    </tr>\n",
              "    <tr>\n",
              "      <th>6</th>\n",
              "      <td>2020-06-09</td>\n",
              "      <td>332.140015</td>\n",
              "      <td>345.609985</td>\n",
              "      <td>332.010010</td>\n",
              "      <td>343.989990</td>\n",
              "      <td>343.989990</td>\n",
              "      <td>36928100</td>\n",
              "    </tr>\n",
              "    <tr>\n",
              "      <th>7</th>\n",
              "      <td>2020-06-10</td>\n",
              "      <td>347.899994</td>\n",
              "      <td>354.769989</td>\n",
              "      <td>346.089996</td>\n",
              "      <td>352.839996</td>\n",
              "      <td>352.839996</td>\n",
              "      <td>41662900</td>\n",
              "    </tr>\n",
              "    <tr>\n",
              "      <th>8</th>\n",
              "      <td>2020-06-11</td>\n",
              "      <td>349.309998</td>\n",
              "      <td>351.059998</td>\n",
              "      <td>335.480011</td>\n",
              "      <td>335.899994</td>\n",
              "      <td>335.899994</td>\n",
              "      <td>50415600</td>\n",
              "    </tr>\n",
              "    <tr>\n",
              "      <th>9</th>\n",
              "      <td>2020-06-12</td>\n",
              "      <td>344.720001</td>\n",
              "      <td>347.799988</td>\n",
              "      <td>334.220001</td>\n",
              "      <td>338.799988</td>\n",
              "      <td>338.799988</td>\n",
              "      <td>50001500</td>\n",
              "    </tr>\n",
              "  </tbody>\n",
              "</table>\n",
              "</div>"
            ],
            "text/plain": [
              "         Date        Open        High  ...       Close   Adj Close    Volume\n",
              "0  2020-06-01  317.750000  322.350006  ...  321.850006  321.850006  20197800\n",
              "1  2020-06-02  320.750000  323.440002  ...  323.339996  323.339996  21910700\n",
              "2  2020-06-03  324.660004  326.200012  ...  325.119995  325.119995  26122800\n",
              "3  2020-06-04  324.390015  325.619995  ...  322.320007  322.320007  21890100\n",
              "4  2020-06-05  323.350006  331.750000  ...  331.500000  331.500000  34312600\n",
              "5  2020-06-08  330.250000  333.600006  ...  333.459991  333.459991  23913600\n",
              "6  2020-06-09  332.140015  345.609985  ...  343.989990  343.989990  36928100\n",
              "7  2020-06-10  347.899994  354.769989  ...  352.839996  352.839996  41662900\n",
              "8  2020-06-11  349.309998  351.059998  ...  335.899994  335.899994  50415600\n",
              "9  2020-06-12  344.720001  347.799988  ...  338.799988  338.799988  50001500\n",
              "\n",
              "[10 rows x 7 columns]"
            ]
          },
          "metadata": {
            "tags": []
          },
          "execution_count": 49
        }
      ]
    },
    {
      "cell_type": "code",
      "metadata": {
        "id": "mYiM6i8G8_qh",
        "colab": {
          "base_uri": "https://localhost:8080/",
          "height": 277
        },
        "outputId": "8bb67432-b726-4f89-ed7e-924b36c8fb72"
      },
      "source": [
        "import matplotlib.pyplot as plt\n",
        "if (str(ST_US_data)=='Empty DataFrame\\nColumns: [404 Not Found: No data found,  symbol may be delisted]\\nIndex: []'):\n",
        "  print(\"nothing\")\n",
        "else:\n",
        "  date_US=[]\n",
        "  for i in range (len(ST_US_data.Date)):\n",
        "    date_US.append(ST_US_data.Date[i])\n",
        "  print(date_US)\n",
        "  plt.figure()\n",
        "  x_value = date_US\n",
        "  y_value=ST_US_data[['Open','Close','High', 'Low']]\n",
        "  for i in y_value:\n",
        "    plt.plot(date_US,ST_US_data[str(i)],label = str(i))\n",
        "  plt.xticks(fontsize=5)\n",
        "  plt.legend(loc=\"upper right\")\n",
        "  plt.show()"
      ],
      "execution_count": null,
      "outputs": [
        {
          "output_type": "stream",
          "text": [
            "['2020-06-01', '2020-06-02', '2020-06-03', '2020-06-04', '2020-06-05', '2020-06-08', '2020-06-09', '2020-06-10', '2020-06-11', '2020-06-12']\n"
          ],
          "name": "stdout"
        },
        {
          "output_type": "display_data",
          "data": {
            "image/png": "[encoded data removed]",
            "text/plain": [
              "<Figure size 432x288 with 1 Axes>"
            ]
          },
          "metadata": {
            "tags": [],
            "needs_background": "light"
          }
        }
      ]
    },
    {
      "cell_type": "markdown",
      "metadata": {
        "id": "eWpMBvQNw9c_"
      },
      "source": [
        "## DJI index"
      ]
    },
    {
      "cell_type": "code",
      "metadata": {
        "id": "9MiLQDpyv87Q"
      },
      "source": [
        "import time\n",
        "url1=\"https://query1.finance.yahoo.com/v7/finance/download/%5EDJI?period1=\"\n",
        "url2=\"&period2=\"\n",
        "url3=\"&interval=1d&events=history\"\n",
        "t2=round(time.time())\n",
        "t1=t2-86400*14\n",
        "url=url1 +str(t1) + url2+ str(t2) + url3"
      ],
      "execution_count": null,
      "outputs": []
    },
    {
      "cell_type": "code",
      "metadata": {
        "id": "nOl7-I3G9EnA",
        "colab": {
          "base_uri": "https://localhost:8080/",
          "height": 418
        },
        "outputId": "31b4c3b5-942f-4437-b2dd-6c29b3107ab2"
      },
      "source": [
        "#download data from google drive\n",
        "import gdown\n",
        "url =url1 +str(t1) + url2+ str(t2) + url3\n",
        "gdown.download(url, mydrive+\"DJI.csv\", quiet=False)\n",
        "index_data = pd.read_csv(mydrive+'DJI.csv')\n",
        "index_data"
      ],
      "execution_count": null,
      "outputs": [
        {
          "output_type": "stream",
          "text": [
            "Downloading...\n",
            "From: https://query1.finance.yahoo.com/v7/finance/download/%5EDJI?period1=1590839249&period2=1592048849&interval=1d&events=history\n",
            "To: /content/drive/My Drive/DJI.csv\n",
            "901B [00:00, 304kB/s]                    \n"
          ],
          "name": "stderr"
        },
        {
          "output_type": "execute_result",
          "data": {
            "text/html": [
              "<div>\n",
              "<style scoped>\n",
              "    .dataframe tbody tr th:only-of-type {\n",
              "        vertical-align: middle;\n",
              "    }\n",
              "\n",
              "    .dataframe tbody tr th {\n",
              "        vertical-align: top;\n",
              "    }\n",
              "\n",
              "    .dataframe thead th {\n",
              "        text-align: right;\n",
              "    }\n",
              "</style>\n",
              "<table border=\"1\" class=\"dataframe\">\n",
              "  <thead>\n",
              "    <tr style=\"text-align: right;\">\n",
              "      <th></th>\n",
              "      <th>Date</th>\n",
              "      <th>Open</th>\n",
              "      <th>High</th>\n",
              "      <th>Low</th>\n",
              "      <th>Close</th>\n",
              "      <th>Adj Close</th>\n",
              "      <th>Volume</th>\n",
              "    </tr>\n",
              "  </thead>\n",
              "  <tbody>\n",
              "    <tr>\n",
              "      <th>0</th>\n",
              "      <td>2020-06-01</td>\n",
              "      <td>25342.990234</td>\n",
              "      <td>25508.830078</td>\n",
              "      <td>25220.660156</td>\n",
              "      <td>25475.019531</td>\n",
              "      <td>25475.019531</td>\n",
              "      <td>338310000</td>\n",
              "    </tr>\n",
              "    <tr>\n",
              "      <th>1</th>\n",
              "      <td>2020-06-02</td>\n",
              "      <td>25582.519531</td>\n",
              "      <td>25743.130859</td>\n",
              "      <td>25523.740234</td>\n",
              "      <td>25742.650391</td>\n",
              "      <td>25742.650391</td>\n",
              "      <td>352610000</td>\n",
              "    </tr>\n",
              "    <tr>\n",
              "      <th>2</th>\n",
              "      <td>2020-06-03</td>\n",
              "      <td>25906.880859</td>\n",
              "      <td>26337.750000</td>\n",
              "      <td>25906.880859</td>\n",
              "      <td>26269.890625</td>\n",
              "      <td>26269.890625</td>\n",
              "      <td>398790000</td>\n",
              "    </tr>\n",
              "    <tr>\n",
              "      <th>3</th>\n",
              "      <td>2020-06-04</td>\n",
              "      <td>26226.490234</td>\n",
              "      <td>26384.099609</td>\n",
              "      <td>26082.310547</td>\n",
              "      <td>26281.820313</td>\n",
              "      <td>26281.820313</td>\n",
              "      <td>372190000</td>\n",
              "    </tr>\n",
              "    <tr>\n",
              "      <th>4</th>\n",
              "      <td>2020-06-05</td>\n",
              "      <td>26836.800781</td>\n",
              "      <td>27338.300781</td>\n",
              "      <td>26836.800781</td>\n",
              "      <td>27110.980469</td>\n",
              "      <td>27110.980469</td>\n",
              "      <td>542310000</td>\n",
              "    </tr>\n",
              "    <tr>\n",
              "      <th>5</th>\n",
              "      <td>2020-06-08</td>\n",
              "      <td>27232.929688</td>\n",
              "      <td>27580.210938</td>\n",
              "      <td>27232.480469</td>\n",
              "      <td>27572.439453</td>\n",
              "      <td>27572.439453</td>\n",
              "      <td>430200000</td>\n",
              "    </tr>\n",
              "    <tr>\n",
              "      <th>6</th>\n",
              "      <td>2020-06-09</td>\n",
              "      <td>27447.369141</td>\n",
              "      <td>27447.369141</td>\n",
              "      <td>27151.060547</td>\n",
              "      <td>27272.300781</td>\n",
              "      <td>27272.300781</td>\n",
              "      <td>381430000</td>\n",
              "    </tr>\n",
              "    <tr>\n",
              "      <th>7</th>\n",
              "      <td>2020-06-10</td>\n",
              "      <td>27251.890625</td>\n",
              "      <td>27355.220703</td>\n",
              "      <td>26938.050781</td>\n",
              "      <td>26989.990234</td>\n",
              "      <td>26989.990234</td>\n",
              "      <td>448930000</td>\n",
              "    </tr>\n",
              "    <tr>\n",
              "      <th>8</th>\n",
              "      <td>2020-06-11</td>\n",
              "      <td>26282.509766</td>\n",
              "      <td>26294.080078</td>\n",
              "      <td>25082.720703</td>\n",
              "      <td>25128.169922</td>\n",
              "      <td>25128.169922</td>\n",
              "      <td>647780000</td>\n",
              "    </tr>\n",
              "    <tr>\n",
              "      <th>9</th>\n",
              "      <td>2020-06-12</td>\n",
              "      <td>25659.419922</td>\n",
              "      <td>25965.550781</td>\n",
              "      <td>25078.410156</td>\n",
              "      <td>25605.539063</td>\n",
              "      <td>25605.539063</td>\n",
              "      <td>514440000</td>\n",
              "    </tr>\n",
              "  </tbody>\n",
              "</table>\n",
              "</div>"
            ],
            "text/plain": [
              "         Date          Open  ...     Adj Close     Volume\n",
              "0  2020-06-01  25342.990234  ...  25475.019531  338310000\n",
              "1  2020-06-02  25582.519531  ...  25742.650391  352610000\n",
              "2  2020-06-03  25906.880859  ...  26269.890625  398790000\n",
              "3  2020-06-04  26226.490234  ...  26281.820313  372190000\n",
              "4  2020-06-05  26836.800781  ...  27110.980469  542310000\n",
              "5  2020-06-08  27232.929688  ...  27572.439453  430200000\n",
              "6  2020-06-09  27447.369141  ...  27272.300781  381430000\n",
              "7  2020-06-10  27251.890625  ...  26989.990234  448930000\n",
              "8  2020-06-11  26282.509766  ...  25128.169922  647780000\n",
              "9  2020-06-12  25659.419922  ...  25605.539063  514440000\n",
              "\n",
              "[10 rows x 7 columns]"
            ]
          },
          "metadata": {
            "tags": []
          },
          "execution_count": 52
        }
      ]
    },
    {
      "cell_type": "markdown",
      "metadata": {
        "id": "WDEMen5rJIj_"
      },
      "source": [
        "##VIX index\n"
      ]
    },
    {
      "cell_type": "code",
      "metadata": {
        "id": "_5zbqYPXJIkB"
      },
      "source": [
        "import time\n",
        "urlvix1=\"https://query1.finance.yahoo.com/v7/finance/download/%5EVIX?period1=\"\n",
        "urlvix2=\"&period2=\"\n",
        "urlvix3=\"&interval=1d&events=history\"\n",
        "t2=round(time.time())\n",
        "t1=t2-86400*14\n",
        "url=urlvix1 +str(t1) + urlvix2+ str(t2) + urlvix3"
      ],
      "execution_count": null,
      "outputs": []
    },
    {
      "cell_type": "code",
      "metadata": {
        "id": "VrwrHAXpJIkF",
        "colab": {
          "base_uri": "https://localhost:8080/",
          "height": 418
        },
        "outputId": "09bdfc80-97de-4d4d-b563-058bc932f090"
      },
      "source": [
        "#download data from google drive\n",
        "import gdown\n",
        "url=urlvix1 +str(t1) + urlvix2+ str(t2) + urlvix3\n",
        "gdown.download(url, mydrive+\"VIX.csv\", quiet=False)\n",
        "VIX_data = pd.read_csv(mydrive+'VIX.csv')\n",
        "VIX_data"
      ],
      "execution_count": null,
      "outputs": [
        {
          "output_type": "stream",
          "text": [
            "Downloading...\n",
            "From: https://query1.finance.yahoo.com/v7/finance/download/%5EVIX?period1=1590839254&period2=1592048854&interval=1d&events=history\n",
            "To: /content/drive/My Drive/VIX.csv\n",
            "671B [00:00, 175kB/s]                    \n"
          ],
          "name": "stderr"
        },
        {
          "output_type": "execute_result",
          "data": {
            "text/html": [
              "<div>\n",
              "<style scoped>\n",
              "    .dataframe tbody tr th:only-of-type {\n",
              "        vertical-align: middle;\n",
              "    }\n",
              "\n",
              "    .dataframe tbody tr th {\n",
              "        vertical-align: top;\n",
              "    }\n",
              "\n",
              "    .dataframe thead th {\n",
              "        text-align: right;\n",
              "    }\n",
              "</style>\n",
              "<table border=\"1\" class=\"dataframe\">\n",
              "  <thead>\n",
              "    <tr style=\"text-align: right;\">\n",
              "      <th></th>\n",
              "      <th>Date</th>\n",
              "      <th>Open</th>\n",
              "      <th>High</th>\n",
              "      <th>Low</th>\n",
              "      <th>Close</th>\n",
              "      <th>Adj Close</th>\n",
              "      <th>Volume</th>\n",
              "    </tr>\n",
              "  </thead>\n",
              "  <tbody>\n",
              "    <tr>\n",
              "      <th>0</th>\n",
              "      <td>2020-06-01</td>\n",
              "      <td>28.940001</td>\n",
              "      <td>30.600000</td>\n",
              "      <td>28.110001</td>\n",
              "      <td>28.230000</td>\n",
              "      <td>28.230000</td>\n",
              "      <td>0</td>\n",
              "    </tr>\n",
              "    <tr>\n",
              "      <th>1</th>\n",
              "      <td>2020-06-02</td>\n",
              "      <td>28.400000</td>\n",
              "      <td>28.520000</td>\n",
              "      <td>26.660000</td>\n",
              "      <td>26.840000</td>\n",
              "      <td>26.840000</td>\n",
              "      <td>0</td>\n",
              "    </tr>\n",
              "    <tr>\n",
              "      <th>2</th>\n",
              "      <td>2020-06-03</td>\n",
              "      <td>26.750000</td>\n",
              "      <td>26.980000</td>\n",
              "      <td>25.040001</td>\n",
              "      <td>25.660000</td>\n",
              "      <td>25.660000</td>\n",
              "      <td>0</td>\n",
              "    </tr>\n",
              "    <tr>\n",
              "      <th>3</th>\n",
              "      <td>2020-06-04</td>\n",
              "      <td>26.230000</td>\n",
              "      <td>26.430000</td>\n",
              "      <td>24.379999</td>\n",
              "      <td>25.809999</td>\n",
              "      <td>25.809999</td>\n",
              "      <td>0</td>\n",
              "    </tr>\n",
              "    <tr>\n",
              "      <th>4</th>\n",
              "      <td>2020-06-05</td>\n",
              "      <td>24.790001</td>\n",
              "      <td>25.090000</td>\n",
              "      <td>23.540001</td>\n",
              "      <td>24.520000</td>\n",
              "      <td>24.520000</td>\n",
              "      <td>0</td>\n",
              "    </tr>\n",
              "    <tr>\n",
              "      <th>5</th>\n",
              "      <td>2020-06-08</td>\n",
              "      <td>25.559999</td>\n",
              "      <td>25.980000</td>\n",
              "      <td>24.650000</td>\n",
              "      <td>25.809999</td>\n",
              "      <td>25.809999</td>\n",
              "      <td>0</td>\n",
              "    </tr>\n",
              "    <tr>\n",
              "      <th>6</th>\n",
              "      <td>2020-06-09</td>\n",
              "      <td>25.930000</td>\n",
              "      <td>27.700001</td>\n",
              "      <td>25.709999</td>\n",
              "      <td>27.570000</td>\n",
              "      <td>27.570000</td>\n",
              "      <td>0</td>\n",
              "    </tr>\n",
              "    <tr>\n",
              "      <th>7</th>\n",
              "      <td>2020-06-10</td>\n",
              "      <td>26.730000</td>\n",
              "      <td>29.010000</td>\n",
              "      <td>26.059999</td>\n",
              "      <td>27.570000</td>\n",
              "      <td>27.570000</td>\n",
              "      <td>0</td>\n",
              "    </tr>\n",
              "    <tr>\n",
              "      <th>8</th>\n",
              "      <td>2020-06-11</td>\n",
              "      <td>30.450001</td>\n",
              "      <td>42.580002</td>\n",
              "      <td>29.490000</td>\n",
              "      <td>40.790001</td>\n",
              "      <td>40.790001</td>\n",
              "      <td>0</td>\n",
              "    </tr>\n",
              "    <tr>\n",
              "      <th>9</th>\n",
              "      <td>2020-06-12</td>\n",
              "      <td>37.680000</td>\n",
              "      <td>44.160000</td>\n",
              "      <td>34.970001</td>\n",
              "      <td>36.090000</td>\n",
              "      <td>36.090000</td>\n",
              "      <td>0</td>\n",
              "    </tr>\n",
              "  </tbody>\n",
              "</table>\n",
              "</div>"
            ],
            "text/plain": [
              "         Date       Open       High        Low      Close  Adj Close  Volume\n",
              "0  2020-06-01  28.940001  30.600000  28.110001  28.230000  28.230000       0\n",
              "1  2020-06-02  28.400000  28.520000  26.660000  26.840000  26.840000       0\n",
              "2  2020-06-03  26.750000  26.980000  25.040001  25.660000  25.660000       0\n",
              "3  2020-06-04  26.230000  26.430000  24.379999  25.809999  25.809999       0\n",
              "4  2020-06-05  24.790001  25.090000  23.540001  24.520000  24.520000       0\n",
              "5  2020-06-08  25.559999  25.980000  24.650000  25.809999  25.809999       0\n",
              "6  2020-06-09  25.930000  27.700001  25.709999  27.570000  27.570000       0\n",
              "7  2020-06-10  26.730000  29.010000  26.059999  27.570000  27.570000       0\n",
              "8  2020-06-11  30.450001  42.580002  29.490000  40.790001  40.790001       0\n",
              "9  2020-06-12  37.680000  44.160000  34.970001  36.090000  36.090000       0"
            ]
          },
          "metadata": {
            "tags": []
          },
          "execution_count": 54
        }
      ]
    },
    {
      "cell_type": "markdown",
      "metadata": {
        "id": "sPc4P9G8d8e8"
      },
      "source": [
        "## S&P 500 (GSPC)"
      ]
    },
    {
      "cell_type": "code",
      "metadata": {
        "id": "JIYg9WhQeAKd"
      },
      "source": [
        "import time\n",
        "url11=\"https://query1.finance.yahoo.com/v7/finance/download/%5EGSPC?period1=\"\n",
        "url22=\"&period2=\"\n",
        "url33=\"&interval=1d&events=history\"\n",
        "t2=round(time.time())\n",
        "t1=t2-86400*14"
      ],
      "execution_count": null,
      "outputs": []
    },
    {
      "cell_type": "code",
      "metadata": {
        "id": "QTRfAiQ7eWUV",
        "colab": {
          "base_uri": "https://localhost:8080/",
          "height": 418
        },
        "outputId": "20910633-970f-44e8-be87-c1a256845840"
      },
      "source": [
        "#download data from google drive\n",
        "import gdown\n",
        "url_GSPC=url11 +str(t1) + url22+ str(t2) + url33\n",
        "gdown.download(url_GSPC, mydrive+\"GSPC.csv\", quiet=False)\n",
        "GSPC_data = pd.read_csv(mydrive+'GSPC.csv')\n",
        "GSPC_data"
      ],
      "execution_count": null,
      "outputs": [
        {
          "output_type": "stream",
          "text": [
            "Downloading...\n",
            "From: https://query1.finance.yahoo.com/v7/finance/download/%5EGSPC?period1=1590839256&period2=1592048856&interval=1d&events=history\n",
            "To: /content/drive/My Drive/GSPC.csv\n",
            "861B [00:00, 307kB/s]                    \n"
          ],
          "name": "stderr"
        },
        {
          "output_type": "execute_result",
          "data": {
            "text/html": [
              "<div>\n",
              "<style scoped>\n",
              "    .dataframe tbody tr th:only-of-type {\n",
              "        vertical-align: middle;\n",
              "    }\n",
              "\n",
              "    .dataframe tbody tr th {\n",
              "        vertical-align: top;\n",
              "    }\n",
              "\n",
              "    .dataframe thead th {\n",
              "        text-align: right;\n",
              "    }\n",
              "</style>\n",
              "<table border=\"1\" class=\"dataframe\">\n",
              "  <thead>\n",
              "    <tr style=\"text-align: right;\">\n",
              "      <th></th>\n",
              "      <th>Date</th>\n",
              "      <th>Open</th>\n",
              "      <th>High</th>\n",
              "      <th>Low</th>\n",
              "      <th>Close</th>\n",
              "      <th>Adj Close</th>\n",
              "      <th>Volume</th>\n",
              "    </tr>\n",
              "  </thead>\n",
              "  <tbody>\n",
              "    <tr>\n",
              "      <th>0</th>\n",
              "      <td>2020-06-01</td>\n",
              "      <td>3038.780029</td>\n",
              "      <td>3062.179932</td>\n",
              "      <td>3031.540039</td>\n",
              "      <td>3055.729980</td>\n",
              "      <td>3055.729980</td>\n",
              "      <td>4673410000</td>\n",
              "    </tr>\n",
              "    <tr>\n",
              "      <th>1</th>\n",
              "      <td>2020-06-02</td>\n",
              "      <td>3064.780029</td>\n",
              "      <td>3081.070068</td>\n",
              "      <td>3051.639893</td>\n",
              "      <td>3080.820068</td>\n",
              "      <td>3080.820068</td>\n",
              "      <td>5187230000</td>\n",
              "    </tr>\n",
              "    <tr>\n",
              "      <th>2</th>\n",
              "      <td>2020-06-03</td>\n",
              "      <td>3098.899902</td>\n",
              "      <td>3130.939941</td>\n",
              "      <td>3098.899902</td>\n",
              "      <td>3122.870117</td>\n",
              "      <td>3122.870117</td>\n",
              "      <td>5989560000</td>\n",
              "    </tr>\n",
              "    <tr>\n",
              "      <th>3</th>\n",
              "      <td>2020-06-04</td>\n",
              "      <td>3111.560059</td>\n",
              "      <td>3128.909912</td>\n",
              "      <td>3090.409912</td>\n",
              "      <td>3112.350098</td>\n",
              "      <td>3112.350098</td>\n",
              "      <td>6428130000</td>\n",
              "    </tr>\n",
              "    <tr>\n",
              "      <th>4</th>\n",
              "      <td>2020-06-05</td>\n",
              "      <td>3163.840088</td>\n",
              "      <td>3211.719971</td>\n",
              "      <td>3163.840088</td>\n",
              "      <td>3193.929932</td>\n",
              "      <td>3193.929932</td>\n",
              "      <td>8617590000</td>\n",
              "    </tr>\n",
              "    <tr>\n",
              "      <th>5</th>\n",
              "      <td>2020-06-08</td>\n",
              "      <td>3199.919922</td>\n",
              "      <td>3233.129883</td>\n",
              "      <td>3196.000000</td>\n",
              "      <td>3232.389893</td>\n",
              "      <td>3232.389893</td>\n",
              "      <td>8437380000</td>\n",
              "    </tr>\n",
              "    <tr>\n",
              "      <th>6</th>\n",
              "      <td>2020-06-09</td>\n",
              "      <td>3213.320068</td>\n",
              "      <td>3222.709961</td>\n",
              "      <td>3193.110107</td>\n",
              "      <td>3207.179932</td>\n",
              "      <td>3207.179932</td>\n",
              "      <td>6382620000</td>\n",
              "    </tr>\n",
              "    <tr>\n",
              "      <th>7</th>\n",
              "      <td>2020-06-10</td>\n",
              "      <td>3213.419922</td>\n",
              "      <td>3223.270020</td>\n",
              "      <td>3181.489990</td>\n",
              "      <td>3190.139893</td>\n",
              "      <td>3190.139893</td>\n",
              "      <td>6570840000</td>\n",
              "    </tr>\n",
              "    <tr>\n",
              "      <th>8</th>\n",
              "      <td>2020-06-11</td>\n",
              "      <td>3123.530029</td>\n",
              "      <td>3123.530029</td>\n",
              "      <td>2999.489990</td>\n",
              "      <td>3002.100098</td>\n",
              "      <td>3002.100098</td>\n",
              "      <td>7018890000</td>\n",
              "    </tr>\n",
              "    <tr>\n",
              "      <th>9</th>\n",
              "      <td>2020-06-12</td>\n",
              "      <td>3071.040039</td>\n",
              "      <td>3088.419922</td>\n",
              "      <td>2984.469971</td>\n",
              "      <td>3041.310059</td>\n",
              "      <td>3041.310059</td>\n",
              "      <td>5832250000</td>\n",
              "    </tr>\n",
              "  </tbody>\n",
              "</table>\n",
              "</div>"
            ],
            "text/plain": [
              "         Date         Open         High  ...        Close    Adj Close      Volume\n",
              "0  2020-06-01  3038.780029  3062.179932  ...  3055.729980  3055.729980  4673410000\n",
              "1  2020-06-02  3064.780029  3081.070068  ...  3080.820068  3080.820068  5187230000\n",
              "2  2020-06-03  3098.899902  3130.939941  ...  3122.870117  3122.870117  5989560000\n",
              "3  2020-06-04  3111.560059  3128.909912  ...  3112.350098  3112.350098  6428130000\n",
              "4  2020-06-05  3163.840088  3211.719971  ...  3193.929932  3193.929932  8617590000\n",
              "5  2020-06-08  3199.919922  3233.129883  ...  3232.389893  3232.389893  8437380000\n",
              "6  2020-06-09  3213.320068  3222.709961  ...  3207.179932  3207.179932  6382620000\n",
              "7  2020-06-10  3213.419922  3223.270020  ...  3190.139893  3190.139893  6570840000\n",
              "8  2020-06-11  3123.530029  3123.530029  ...  3002.100098  3002.100098  7018890000\n",
              "9  2020-06-12  3071.040039  3088.419922  ...  3041.310059  3041.310059  5832250000\n",
              "\n",
              "[10 rows x 7 columns]"
            ]
          },
          "metadata": {
            "tags": []
          },
          "execution_count": 56
        }
      ]
    },
    {
      "cell_type": "markdown",
      "metadata": {
        "id": "x-LdtBjdNepp"
      },
      "source": [
        "# Index Plot"
      ]
    },
    {
      "cell_type": "code",
      "metadata": {
        "id": "ngOlrbqmaiuA"
      },
      "source": [
        "sentindex2=[sqrt(i) if i>0 else -sqrt(-i) for i in sentindex]"
      ],
      "execution_count": null,
      "outputs": []
    },
    {
      "cell_type": "code",
      "metadata": {
        "id": "AkugVQMUNepq",
        "colab": {
          "base_uri": "https://localhost:8080/",
          "height": 917
        },
        "outputId": "d22e5725-0ca9-448b-90ee-98e3c099feb0"
      },
      "source": [
        "date_index=[]\n",
        "for i in range (len(index_data.Date)):\n",
        "  date_index.append(index_data.Date[i])\n",
        "date_index2=[]\n",
        "for i in range (len(GSPC_data.Date)):\n",
        "  date_index2.append(GSPC_data.Date[i])\n",
        "date_index3=[]\n",
        "for i in range (len(VIX_data.Date)):\n",
        "  date_index3.append(VIX_data.Date[i])\n",
        "\n",
        "#sentindex=[100, 62.5, 75, 37.5, -37.5, 87.5, 37.5, 25, 100, 62.5]\n",
        "sentindex=[100, 36.36, 72.73, 54.55, 18.18, 90.91, 45.45, 54.55, 109.09, 63.63]\n",
        "\n",
        "x_value1 = date_index\n",
        "x_value2 = date_index2\n",
        "x_value3 = date_index3\n",
        "x_value4=['2020-06-01', '2020-06-02', \n",
        "'2020-06-03', '2020-06-04', '2020-06-05', '2020-06-08', '2020-06-09', '2020-06-10', '2020-06-11', '2020-06-12']\n",
        "\n",
        "\n",
        "plt.figure(figsize=(20,16))\n",
        "plt.subplot(221)\n",
        "y_value1=index_data[['Close']]\n",
        "for i in y_value1:\n",
        "  plt.plot(x_value1,index_data[str(i)],label = \"DJI\", color='green')\n",
        "plt.xticks(fontsize=8)\n",
        "plt.legend(loc=\"upper right\")\n",
        "plt.subplot(222)\n",
        "y_value2 = GSPC_data[['Close']]\n",
        "for i in y_value2:\n",
        "  plt.plot(x_value2,GSPC_data[str(i)],label = 'GSPC', color='yellow')\n",
        "plt.xticks(fontsize=8)\n",
        "plt.legend(loc=\"upper right\")\n",
        "plt.subplot(223)\n",
        "y_value3 = VIX_data[['Close']]\n",
        "for i in y_value3:\n",
        "  plt.plot(x_value3,VIX_data[str(i)],label = 'VIX',color='red')\n",
        "plt.xticks(fontsize=8)\n",
        "plt.legend(loc=\"upper right\")\n",
        "plt.subplot(224)\n",
        "y_value4 = sentindex\n",
        "# for i in range(len(y_value4)):\n",
        "plt.plot(x_value4,sentindex,label = 'SENTIindex')\n",
        "plt.xticks(fontsize=8)\n",
        "plt.legend(loc=\"upper right\")\n",
        "plt.savefig(mydrive+'USindex2'+t+'.png')\n",
        "plt.show()"
      ],
      "execution_count": null,
      "outputs": [
        {
          "output_type": "display_data",
          "data": {
            "image/png": "[encoded data removed]",
            "text/plain": [
              "<Figure size 1440x1152 with 4 Axes>"
            ]
          },
          "metadata": {
            "tags": [],
            "needs_background": "light"
          }
        }
      ]
    },
    {
      "cell_type": "markdown",
      "metadata": {
        "id": "kbgMQy80wciy"
      },
      "source": [
        "# TW Stock"
      ]
    },
    {
      "cell_type": "code",
      "metadata": {
        "id": "MFMHjPjpwYHn"
      },
      "source": [
        "import time\n",
        "stock_name_TW=str(input(\"stock code :\" ))\n",
        "urlst1=\"https://query1.finance.yahoo.com/v7/finance/download/\"\n",
        "urlst2=stock_name_TW #user's input\n",
        "urlst3=\".TW?period1=\"\n",
        "urlst4=\"&period2=\"\n",
        "urlst5=\"&interval=1d&events=history\"\n",
        "t2=round(time.time())\n",
        "t1=t2-86400*7"
      ],
      "execution_count": null,
      "outputs": []
    },
    {
      "cell_type": "code",
      "metadata": {
        "id": "njLhlJA5wnQs"
      },
      "source": [
        "#download data from google drive\n",
        "import gdown\n",
        "url_ST_TW=urlst1 +urlst2+urlst3+str(t1) + urlst4+ str(t2) + urlst5\n",
        "gdown.download(url_ST_TW, mydrive+\"stock price tw.csv\", quiet=False)\n",
        "ST_TW_data = pd.read_csv(mydrive+'stock price tw.csv')\n",
        "ST_TW_data"
      ],
      "execution_count": null,
      "outputs": []
    },
    {
      "cell_type": "code",
      "metadata": {
        "id": "m3mI6Eas7OTk"
      },
      "source": [
        "if (str(ST_TW_data)=='Empty DataFrame\\nColumns: [404 Not Found: No data found,  symbol may be delisted]\\nIndex: []'):\n",
        "  print('Nothing')\n",
        "else:\n",
        "  date=[]\n",
        "  for i in range (len(ST_TW_data.Date)):\n",
        "    date.append(ST_TW_data.Date[i])\n",
        "  print(date)\n",
        "  plt.figure()\n",
        "  x_value=date\n",
        "  y_value=ST_TW_data[['Open','Close','High', 'Low']]\n",
        "  for i in y_value:\n",
        "    plt.plot(x_value,ST_TW_data[str(i)],label = str(i))\n",
        "  plt.legend(loc=\"upper right\")\n",
        "  plt.show()"
      ],
      "execution_count": null,
      "outputs": []
    },
    {
      "cell_type": "markdown",
      "metadata": {
        "id": "Ijf7B4lSVwIm"
      },
      "source": [
        "## TWII"
      ]
    },
    {
      "cell_type": "code",
      "metadata": {
        "id": "ICmDx7GvVy1y"
      },
      "source": [
        "import time\n",
        "url11=\"https://query1.finance.yahoo.com/v7/finance/download/%5ETWII?period1=\"\n",
        "url22=\"&period2=\"\n",
        "url33=\"&interval=1d&events=history\"\n",
        "t2=round(time.time())\n",
        "t1=t2-86400*7"
      ],
      "execution_count": null,
      "outputs": []
    },
    {
      "cell_type": "code",
      "metadata": {
        "id": "Drj5me5YWLRN"
      },
      "source": [
        "#download data from google drive\n",
        "import gdown\n",
        "url_TW=url11 +str(t1) + url22+ str(t2) + url33\n",
        "gdown.download(url_TW, mydrive+\"TWII.csv\", quiet=False)\n",
        "TWII_data = pd.read_csv(mydrive+'TWII.csv')\n",
        "TWII_data"
      ],
      "execution_count": null,
      "outputs": []
    },
    {
      "cell_type": "markdown",
      "metadata": {
        "id": "ICthKxIlH9Yv"
      },
      "source": [
        "##VIXT index\n"
      ]
    },
    {
      "cell_type": "code",
      "metadata": {
        "id": "q8-0XKzMIGat"
      },
      "source": [
        "import time\n",
        "urlvixt1=\"https://query1.finance.yahoo.com/v7/finance/download/00677U.TW?period1=\"\n",
        "urlvixt2=\"&period2=\"\n",
        "urlvixt3=\"&interval=1d&events=history\"\n",
        "t2=round(time.time())\n",
        "t1=t2-86400*7\n",
        "url=urlvixt1 +str(t1) + urlvixt2+ str(t2) + urlvixt3"
      ],
      "execution_count": null,
      "outputs": []
    },
    {
      "cell_type": "code",
      "metadata": {
        "id": "g8m0Dg3JIGaz"
      },
      "source": [
        "#download data from google drive\n",
        "import gdown\n",
        "url=urlvixt1 +str(t1) + urlvixt2+ str(t2) + urlvixt3\n",
        "gdown.download(url, mydrive+\"VIXT.csv\", quiet=False)\n",
        "VIXT_data = pd.read_csv(mydrive+'VIXT.csv')\n",
        "VIXT_data"
      ],
      "execution_count": null,
      "outputs": []
    },
    {
      "cell_type": "markdown",
      "metadata": {
        "id": "svUmr9wsKFXd"
      },
      "source": [
        "##NASDAQ index\n"
      ]
    },
    {
      "cell_type": "code",
      "metadata": {
        "id": "MoWv8NFYKFXe"
      },
      "source": [
        "import time\n",
        "urlnas1=\"https://query1.finance.yahoo.com/v7/finance/download/%5EIXIC?period1=\"\n",
        "urlnas2=\"&period2=\"\n",
        "urlnas3=\"&interval=1d&events=history\"\n",
        "t2=round(time.time())\n",
        "t1=t2-86400*7\n",
        "url=urlnas1 +str(t1) + urlnas2+ str(t2) + urlnas3"
      ],
      "execution_count": null,
      "outputs": []
    },
    {
      "cell_type": "code",
      "metadata": {
        "id": "i7AXQxhZKFXj"
      },
      "source": [
        "#download data from google drive\n",
        "import gdown\n",
        "url=urlnas1 +str(t1) + urlnas2+ str(t2) + urlnas3\n",
        "gdown.download(url, mydrive+\"NAS.csv\", quiet=False)\n",
        "NAS_data = pd.read_csv(mydrive+'NAS.csv')\n",
        "NAS_data"
      ],
      "execution_count": null,
      "outputs": []
    },
    {
      "cell_type": "markdown",
      "metadata": {
        "id": "wKV5KSiq55eB"
      },
      "source": [
        "# Index Plot"
      ]
    },
    {
      "cell_type": "code",
      "metadata": {
        "id": "kkbwh2ai9XtI"
      },
      "source": [
        "date_index11=[]\n",
        "for i in range (len(TWII_data.Date)):\n",
        "  date_index11.append(TWII_data.Date[i])\n",
        "date_index22=[]\n",
        "for i in range (len(VIXT_data.Date)):\n",
        "  date_index22.append(VIXT_data.Date[i])\n",
        "date_index33=[]\n",
        "for i in range (len(NAS_data.Date)):\n",
        "  date_index33.append(NAS_data.Date[i])\n",
        "\n",
        "sentindex_ch=[75, 125, 200, 162.5, 150]\n",
        "\n",
        "x_value11 = date_index11\n",
        "x_value22 = date_index22\n",
        "x_value33 = date_index33\n",
        "x_value44=['2020-06-09', '2020-06-10', '2020-06-11', '2020-06-12', '2020-06-15']\n",
        "plt.figure(figsize=(10,8))\n",
        "plt.subplot(221)\n",
        "y_value11=TWII_data[['Close']]\n",
        "for i in y_value11:\n",
        "  plt.plot(x_value11,TWII_data[str(i)],label = \"TWII\", color='green')\n",
        "plt.legend(loc=\"upper right\")\n",
        "plt.subplot(222)\n",
        "y_value22 = VIXT_data[['Close']]\n",
        "for i in y_value22:\n",
        "  plt.plot(x_value22,VIXT_data[str(i)],label = 'VIXT')\n",
        "plt.legend(loc=\"upper right\")\n",
        "plt.subplot(223)\n",
        "y_value33 = NAS_data[['Close']]\n",
        "for i in y_value33:\n",
        "  plt.plot(x_value33,NAS_data[str(i)],label = 'NAS')\n",
        "plt.legend(loc=\"upper right\")\n",
        "plt.subplot(224)\n",
        "y_value44 = sentindex_ch\n",
        "# for i in range(len(y_value4)):\n",
        "plt.plot(x_value44,sentindex_ch,label = 'SENTI_CHindex')\n",
        "plt.legend(loc=\"upper right\")\n",
        "plt.show()"
      ],
      "execution_count": null,
      "outputs": []
    },
    {
      "cell_type": "code",
      "metadata": {
        "id": "9DRX99qLMl_c"
      },
      "source": [
        ""
      ],
      "execution_count": null,
      "outputs": []
    }
  ]
}